{
 "cells": [
  {
   "cell_type": "markdown",
   "metadata": {},
   "source": [
    "TensorFlow"
   ]
  },
  {
   "cell_type": "code",
   "execution_count": 72,
   "metadata": {},
   "outputs": [],
   "source": [
    "### TensorFlow를 활용한 y = 2x + 1 선형회귀 모델 예측 예제 ###\n",
    "import tensorflow as tf\n",
    "import numpy as np\n",
    "import matplotlib.pylab as plt\n",
    "import pandas as pd\n",
    "\n",
    "# 폰트지정\n",
    "plt.rcParams['font.family'] = 'Malgun Gothic'\n",
    "\n",
    "# 마이너스 부호 깨짐 지정\n",
    "plt.rcParams['axes.unicode_minus'] = False\n",
    "\n",
    "# 숫자가 지수표현식으로 나올 때 지정\n",
    "pd.options.display.float_format = '{:.2f}'.format"
   ]
  },
  {
   "cell_type": "code",
   "execution_count": 73,
   "metadata": {},
   "outputs": [],
   "source": [
    "# 1. 데이터 준비\n",
    "# x_data: 입력데이터, y_실제값(정답)\n",
    "x_data = np.array([0, 1, 2, 3, 4], dtype=np.float32)\n",
    "y_data = np.array([1, 3, 5, 7, 9], dtype=np.float32)"
   ]
  },
  {
   "cell_type": "code",
   "execution_count": 74,
   "metadata": {},
   "outputs": [],
   "source": [
    "# 2. 모델 정의\n",
    "# 가중치(w)와 편향(b)의 변수로 정의\n",
    "w = tf.Variable(0.0) # 가중치 초기화\n",
    "b = tf.Variable(0.0) # 편향 초기화"
   ]
  },
  {
   "cell_type": "code",
   "execution_count": 75,
   "metadata": {},
   "outputs": [],
   "source": [
    "# 예측 함수(y = wx + b)\n",
    "def predict(x):\n",
    "    return w * x + b"
   ]
  },
  {
   "cell_type": "code",
   "execution_count": 76,
   "metadata": {},
   "outputs": [],
   "source": [
    "# 3. 손실함수 정의\n",
    "# 평균 제곱 오차(MSE, Mean Squared Error) 사용\n",
    "def loss_fn(y_true, y_pred):\n",
    "    return tf.reduce_mean(tf.square(y_true - y_pred))"
   ]
  },
  {
   "cell_type": "code",
   "execution_count": 77,
   "metadata": {},
   "outputs": [],
   "source": [
    "# 4. 최적화 알고리즘 선택\n",
    "optimizer = tf.optimizers.SGD(learning_rate=0.1) # 확률적 경사하강법"
   ]
  },
  {
   "cell_type": "code",
   "execution_count": 78,
   "metadata": {},
   "outputs": [
    {
     "name": "stdout",
     "output_type": "stream",
     "text": [
      "[<tf.Tensor: shape=(), dtype=float32, numpy=-28.0>, <tf.Tensor: shape=(), dtype=float32, numpy=-10.0>]\n",
      "Step 0, Loss: 33.0, w: 2.799999952316284, b: 1.0\n",
      "[<tf.Tensor: shape=(), dtype=float32, numpy=9.600000381469727>, <tf.Tensor: shape=(), dtype=float32, numpy=3.1999998092651367>]\n",
      "[<tf.Tensor: shape=(), dtype=float32, numpy=-3.2000012397766113>, <tf.Tensor: shape=(), dtype=float32, numpy=-1.2800004482269287>]\n",
      "[<tf.Tensor: shape=(), dtype=float32, numpy=1.152000904083252>, <tf.Tensor: shape=(), dtype=float32, numpy=0.25600042939186096>]\n",
      "[<tf.Tensor: shape=(), dtype=float32, numpy=-0.33279865980148315>, <tf.Tensor: shape=(), dtype=float32, numpy=-0.25599950551986694>]\n",
      "[<tf.Tensor: shape=(), dtype=float32, numpy=0.16895857453346252>, <tf.Tensor: shape=(), dtype=float32, numpy=-0.07168037444353104>]\n",
      "[<tf.Tensor: shape=(), dtype=float32, numpy=-0.005117230117321014>, <tf.Tensor: shape=(), dtype=float32, numpy=-0.12492707371711731>]\n",
      "[<tf.Tensor: shape=(), dtype=float32, numpy=0.0509922057390213>, <tf.Tensor: shape=(), dtype=float32, numpy=-0.09789533913135529>]\n",
      "[<tf.Tensor: shape=(), dtype=float32, numpy=0.028959088027477264>, <tf.Tensor: shape=(), dtype=float32, numpy=-0.09871336817741394>]\n",
      "[<tf.Tensor: shape=(), dtype=float32, numpy=0.03369465470314026>, <tf.Tensor: shape=(), dtype=float32, numpy=-0.09055396914482117>]\n",
      "[<tf.Tensor: shape=(), dtype=float32, numpy=0.02948112040758133>, <tf.Tensor: shape=(), dtype=float32, numpy=-0.0859215036034584>]\n",
      "Step 10, Loss: 0.006912051234394312, w: 2.0473830699920654, b: 0.8649691939353943\n",
      "[<tf.Tensor: shape=(), dtype=float32, numpy=0.028473563492298126>, <tf.Tensor: shape=(), dtype=float32, numpy=-0.08052933216094971>]\n",
      "[<tf.Tensor: shape=(), dtype=float32, numpy=0.026515960693359375>, <tf.Tensor: shape=(), dtype=float32, numpy=-0.07581326365470886>]\n",
      "[<tf.Tensor: shape=(), dtype=float32, numpy=0.025021463632583618>, <tf.Tensor: shape=(), dtype=float32, numpy=-0.07125723361968994>]\n",
      "[<tf.Tensor: shape=(), dtype=float32, numpy=0.023498058319091797>, <tf.Tensor: shape=(), dtype=float32, numpy=-0.06701458245515823>]\n",
      "[<tf.Tensor: shape=(), dtype=float32, numpy=0.022105693817138672>, <tf.Tensor: shape=(), dtype=float32, numpy=-0.0630110576748848>]\n",
      "[<tf.Tensor: shape=(), dtype=float32, numpy=0.02078266441822052>, <tf.Tensor: shape=(), dtype=float32, numpy=-0.05925130844116211>]\n",
      "[<tf.Tensor: shape=(), dtype=float32, numpy=0.01954355090856552>, <tf.Tensor: shape=(), dtype=float32, numpy=-0.05571424588561058>]\n",
      "[<tf.Tensor: shape=(), dtype=float32, numpy=0.018378067761659622>, <tf.Tensor: shape=(), dtype=float32, numpy=-0.05238847807049751>]\n",
      "[<tf.Tensor: shape=(), dtype=float32, numpy=0.017279911786317825>, <tf.Tensor: shape=(), dtype=float32, numpy=-0.04926193132996559>]\n",
      "[<tf.Tensor: shape=(), dtype=float32, numpy=0.016248799860477448>, <tf.Tensor: shape=(), dtype=float32, numpy=-0.0463215634226799>]\n",
      "Step 20, Loss: 0.0020186027977615595, w: 2.0255980491638184, b: 0.927025556564331\n",
      "[<tf.Tensor: shape=(), dtype=float32, numpy=0.015279103070497513>, <tf.Tensor: shape=(), dtype=float32, numpy=-0.04355659708380699>]\n",
      "[<tf.Tensor: shape=(), dtype=float32, numpy=0.014365483075380325>, <tf.Tensor: shape=(), dtype=float32, numpy=-0.04095735400915146>]\n",
      "[<tf.Tensor: shape=(), dtype=float32, numpy=0.013510607182979584>, <tf.Tensor: shape=(), dtype=float32, numpy=-0.03851187229156494>]\n",
      "[<tf.Tensor: shape=(), dtype=float32, numpy=0.012702275067567825>, <tf.Tensor: shape=(), dtype=float32, numpy=-0.03621380776166916>]\n",
      "[<tf.Tensor: shape=(), dtype=float32, numpy=0.011943627148866653>, <tf.Tensor: shape=(), dtype=float32, numpy=-0.034052375704050064>]\n",
      "[<tf.Tensor: shape=(), dtype=float32, numpy=0.011231042444705963>, <tf.Tensor: shape=(), dtype=float32, numpy=-0.032019853591918945>]\n",
      "[<tf.Tensor: shape=(), dtype=float32, numpy=0.010560225695371628>, <tf.Tensor: shape=(), dtype=float32, numpy=-0.03010869026184082>]\n",
      "[<tf.Tensor: shape=(), dtype=float32, numpy=0.009931467473506927>, <tf.Tensor: shape=(), dtype=float32, numpy=-0.02831106260418892>]\n",
      "[<tf.Tensor: shape=(), dtype=float32, numpy=0.009337807074189186>, <tf.Tensor: shape=(), dtype=float32, numpy=-0.026621580123901367>]\n",
      "[<tf.Tensor: shape=(), dtype=float32, numpy=0.008780289441347122>, <tf.Tensor: shape=(), dtype=float32, numpy=-0.025032758712768555>]\n",
      "Step 30, Loss: 0.0005895133363083005, w: 2.0138332843780518, b: 0.960564136505127\n",
      "[<tf.Tensor: shape=(), dtype=float32, numpy=0.008257007226347923>, <tf.Tensor: shape=(), dtype=float32, numpy=-0.02353830263018608>]\n",
      "[<tf.Tensor: shape=(), dtype=float32, numpy=0.007763765752315521>, <tf.Tensor: shape=(), dtype=float32, numpy=-0.022133469581604004>]\n",
      "[<tf.Tensor: shape=(), dtype=float32, numpy=0.00730209331959486>, <tf.Tensor: shape=(), dtype=float32, numpy=-0.020811820402741432>]\n",
      "[<tf.Tensor: shape=(), dtype=float32, numpy=0.006863212212920189>, <tf.Tensor: shape=(), dtype=float32, numpy=-0.019570613279938698>]\n",
      "[<tf.Tensor: shape=(), dtype=float32, numpy=0.006454468704760075>, <tf.Tensor: shape=(), dtype=float32, numpy=-0.01840212382376194>]\n",
      "[<tf.Tensor: shape=(), dtype=float32, numpy=0.006071185693144798>, <tf.Tensor: shape=(), dtype=float32, numpy=-0.01730315573513508>]\n",
      "[<tf.Tensor: shape=(), dtype=float32, numpy=0.005707455798983574>, <tf.Tensor: shape=(), dtype=float32, numpy=-0.016270756721496582>]\n",
      "[<tf.Tensor: shape=(), dtype=float32, numpy=0.005366611294448376>, <tf.Tensor: shape=(), dtype=float32, numpy=-0.015299677848815918>]\n",
      "[<tf.Tensor: shape=(), dtype=float32, numpy=0.005046081729233265>, <tf.Tensor: shape=(), dtype=float32, numpy=-0.014386416412889957>]\n",
      "[<tf.Tensor: shape=(), dtype=float32, numpy=0.004747391678392887>, <tf.Tensor: shape=(), dtype=float32, numpy=-0.01352696307003498>]\n",
      "Step 40, Loss: 0.00017216018750332296, w: 2.0074756145477295, b: 0.9786884784698486\n",
      "[<tf.Tensor: shape=(), dtype=float32, numpy=0.004460524767637253>, <tf.Tensor: shape=(), dtype=float32, numpy=-0.012720775790512562>]\n",
      "[<tf.Tensor: shape=(), dtype=float32, numpy=0.0041961669921875>, <tf.Tensor: shape=(), dtype=float32, numpy=-0.011960936710238457>]\n",
      "[<tf.Tensor: shape=(), dtype=float32, numpy=0.003945445641875267>, <tf.Tensor: shape=(), dtype=float32, numpy=-0.011247038841247559>]\n",
      "[<tf.Tensor: shape=(), dtype=float32, numpy=0.0037099835462868214>, <tf.Tensor: shape=(), dtype=float32, numpy=-0.01057581976056099>]\n",
      "[<tf.Tensor: shape=(), dtype=float32, numpy=0.0034886356443166733>, <tf.Tensor: shape=(), dtype=float32, numpy=-0.009944605641067028>]\n",
      "[<tf.Tensor: shape=(), dtype=float32, numpy=0.003279781434684992>, <tf.Tensor: shape=(), dtype=float32, numpy=-0.009351135231554508>]\n",
      "[<tf.Tensor: shape=(), dtype=float32, numpy=0.0030841827392578125>, <tf.Tensor: shape=(), dtype=float32, numpy=-0.00879292469471693>]\n",
      "[<tf.Tensor: shape=(), dtype=float32, numpy=0.002899169921875>, <tf.Tensor: shape=(), dtype=float32, numpy=-0.008268404752016068>]\n",
      "[<tf.Tensor: shape=(), dtype=float32, numpy=0.0027275090105831623>, <tf.Tensor: shape=(), dtype=float32, numpy=-0.007774400524795055>]\n",
      "[<tf.Tensor: shape=(), dtype=float32, numpy=0.0025634765625>, <tf.Tensor: shape=(), dtype=float32, numpy=-0.007310844026505947>]\n",
      "Step 50, Loss: 5.027833321946673e-05, w: 2.004040002822876, b: 0.9884831309318542\n",
      "[<tf.Tensor: shape=(), dtype=float32, numpy=0.0024129864759743214>, <tf.Tensor: shape=(), dtype=float32, numpy=-0.0068736313842237>]\n",
      "[<tf.Tensor: shape=(), dtype=float32, numpy=0.002266407012939453>, <tf.Tensor: shape=(), dtype=float32, numpy=-0.006464123725891113>]\n",
      "[<tf.Tensor: shape=(), dtype=float32, numpy=0.0021311757154762745>, <tf.Tensor: shape=(), dtype=float32, numpy=-0.0060783387161791325>]\n",
      "[<tf.Tensor: shape=(), dtype=float32, numpy=0.002005386631935835>, <tf.Tensor: shape=(), dtype=float32, numpy=-0.005715131759643555>]\n",
      "[<tf.Tensor: shape=(), dtype=float32, numpy=0.0018850327469408512>, <tf.Tensor: shape=(), dtype=float32, numpy=-0.00537419319152832>]\n",
      "[<tf.Tensor: shape=(), dtype=float32, numpy=0.0017711641266942024>, <tf.Tensor: shape=(), dtype=float32, numpy=-0.00505375862121582>]\n",
      "[<tf.Tensor: shape=(), dtype=float32, numpy=0.00166740408167243>, <tf.Tensor: shape=(), dtype=float32, numpy=-0.004751467611640692>]\n",
      "[<tf.Tensor: shape=(), dtype=float32, numpy=0.001568603329360485>, <tf.Tensor: shape=(), dtype=float32, numpy=-0.00446774996817112>]\n",
      "[<tf.Tensor: shape=(), dtype=float32, numpy=0.00147247314453125>, <tf.Tensor: shape=(), dtype=float32, numpy=-0.0042018648236989975>]\n",
      "[<tf.Tensor: shape=(), dtype=float32, numpy=0.0013855935540050268>, <tf.Tensor: shape=(), dtype=float32, numpy=-0.003950714599341154>]\n",
      "Step 60, Loss: 1.4683138942928053e-05, w: 2.002183198928833, b: 0.993776261806488\n",
      "[<tf.Tensor: shape=(), dtype=float32, numpy=0.0013039589393883944>, <tf.Tensor: shape=(), dtype=float32, numpy=-0.0037144902162253857>]\n",
      "[<tf.Tensor: shape=(), dtype=float32, numpy=0.0012237548362463713>, <tf.Tensor: shape=(), dtype=float32, numpy=-0.0034935239236801863>]\n",
      "[<tf.Tensor: shape=(), dtype=float32, numpy=0.0011547089088708162>, <tf.Tensor: shape=(), dtype=float32, numpy=-0.0032837868202477694>]\n",
      "[<tf.Tensor: shape=(), dtype=float32, numpy=0.0010827064979821444>, <tf.Tensor: shape=(), dtype=float32, numpy=-0.0030888321343809366>]\n",
      "[<tf.Tensor: shape=(), dtype=float32, numpy=0.0010191916953772306>, <tf.Tensor: shape=(), dtype=float32, numpy=-0.002904057502746582>]\n",
      "[<tf.Tensor: shape=(), dtype=float32, numpy=0.0009586333762854338>, <tf.Tensor: shape=(), dtype=float32, numpy=-0.0027305842377245426>]\n",
      "[<tf.Tensor: shape=(), dtype=float32, numpy=0.0009015083778649569>, <tf.Tensor: shape=(), dtype=float32, numpy=-0.00256767263635993>]\n",
      "[<tf.Tensor: shape=(), dtype=float32, numpy=0.00084686279296875>, <tf.Tensor: shape=(), dtype=float32, numpy=-0.002414703369140625>]\n",
      "[<tf.Tensor: shape=(), dtype=float32, numpy=0.0007966994307935238>, <tf.Tensor: shape=(), dtype=float32, numpy=-0.0022704366128891706>]\n",
      "[<tf.Tensor: shape=(), dtype=float32, numpy=0.0007488250266760588>, <tf.Tensor: shape=(), dtype=float32, numpy=-0.002134990645572543>]\n",
      "Step 70, Loss: 4.288098807592178e-06, w: 2.0011799335479736, b: 0.9966365098953247\n",
      "[<tf.Tensor: shape=(), dtype=float32, numpy=0.0007051466964185238>, <tf.Tensor: shape=(), dtype=float32, numpy=-0.0020072460174560547>]\n",
      "[<tf.Tensor: shape=(), dtype=float32, numpy=0.00066204066388309>, <tf.Tensor: shape=(), dtype=float32, numpy=-0.001887846039608121>]\n",
      "[<tf.Tensor: shape=(), dtype=float32, numpy=0.0006213189335539937>, <tf.Tensor: shape=(), dtype=float32, numpy=-0.001775622135028243>]\n",
      "[<tf.Tensor: shape=(), dtype=float32, numpy=0.0005848885048180819>, <tf.Tensor: shape=(), dtype=float32, numpy=-0.0016693114303052425>]\n",
      "[<tf.Tensor: shape=(), dtype=float32, numpy=0.0005523682339116931>, <tf.Tensor: shape=(), dtype=float32, numpy=-0.001568865729495883>]\n",
      "[<tf.Tensor: shape=(), dtype=float32, numpy=0.0005153656238690019>, <tf.Tensor: shape=(), dtype=float32, numpy=-0.001476550241932273>]\n",
      "[<tf.Tensor: shape=(), dtype=float32, numpy=0.0004877090686932206>, <tf.Tensor: shape=(), dtype=float32, numpy=-0.0013873577117919922>]\n",
      "[<tf.Tensor: shape=(), dtype=float32, numpy=0.0004566191928461194>, <tf.Tensor: shape=(), dtype=float32, numpy=-0.0013053418369963765>]\n",
      "[<tf.Tensor: shape=(), dtype=float32, numpy=0.0004283905727788806>, <tf.Tensor: shape=(), dtype=float32, numpy=-0.0012275695335119963>]\n",
      "[<tf.Tensor: shape=(), dtype=float32, numpy=0.0004044533707201481>, <tf.Tensor: shape=(), dtype=float32, numpy=-0.0011537551181390882>]\n",
      "Step 80, Loss: 1.2521311418822734e-06, w: 2.0006375312805176, b: 0.9981825351715088\n",
      "[<tf.Tensor: shape=(), dtype=float32, numpy=0.00038023001980036497>, <tf.Tensor: shape=(), dtype=float32, numpy=-0.0010848997626453638>]\n",
      "[<tf.Tensor: shape=(), dtype=float32, numpy=0.00035924918483942747>, <tf.Tensor: shape=(), dtype=float32, numpy=-0.0010195730719715357>]\n",
      "[<tf.Tensor: shape=(), dtype=float32, numpy=0.000335693359375>, <tf.Tensor: shape=(), dtype=float32, numpy=-0.000959420227445662>]\n",
      "[<tf.Tensor: shape=(), dtype=float32, numpy=0.0003161430358886719>, <tf.Tensor: shape=(), dtype=float32, numpy=-0.0009020566940307617>]\n",
      "[<tf.Tensor: shape=(), dtype=float32, numpy=0.0002956390380859375>, <tf.Tensor: shape=(), dtype=float32, numpy=-0.0008487224113196135>]\n",
      "[<tf.Tensor: shape=(), dtype=float32, numpy=0.0002803802490234375>, <tf.Tensor: shape=(), dtype=float32, numpy=-0.0007972241146489978>]\n",
      "[<tf.Tensor: shape=(), dtype=float32, numpy=0.00026311876717954874>, <tf.Tensor: shape=(), dtype=float32, numpy=-0.000749778700992465>]\n",
      "[<tf.Tensor: shape=(), dtype=float32, numpy=0.0002471923944540322>, <tf.Tensor: shape=(), dtype=float32, numpy=-0.0007050037384033203>]\n",
      "[<tf.Tensor: shape=(), dtype=float32, numpy=0.00023183826124295592>, <tf.Tensor: shape=(), dtype=float32, numpy=-0.0006631612777709961>]\n",
      "[<tf.Tensor: shape=(), dtype=float32, numpy=0.00022048951359465718>, <tf.Tensor: shape=(), dtype=float32, numpy=-0.0006227970588952303>]\n",
      "Step 90, Loss: 3.6564415495377034e-07, w: 2.0003445148468018, b: 0.9990178942680359\n",
      "[<tf.Tensor: shape=(), dtype=float32, numpy=0.00020542147103697062>, <tf.Tensor: shape=(), dtype=float32, numpy=-0.0005862474790774286>]\n",
      "[<tf.Tensor: shape=(), dtype=float32, numpy=0.00019416812574490905>, <tf.Tensor: shape=(), dtype=float32, numpy=-0.0005509614711627364>]\n",
      "[<tf.Tensor: shape=(), dtype=float32, numpy=0.00018234254093840718>, <tf.Tensor: shape=(), dtype=float32, numpy=-0.0005180597654543817>]\n",
      "[<tf.Tensor: shape=(), dtype=float32, numpy=0.00017290120013058186>, <tf.Tensor: shape=(), dtype=float32, numpy=-0.00048675533616915345>]\n",
      "[<tf.Tensor: shape=(), dtype=float32, numpy=0.00015945435734465718>, <tf.Tensor: shape=(), dtype=float32, numpy=-0.00045878891251049936>]\n",
      "[<tf.Tensor: shape=(), dtype=float32, numpy=0.0001506805419921875>, <tf.Tensor: shape=(), dtype=float32, numpy=-0.0004310846561565995>]\n",
      "[<tf.Tensor: shape=(), dtype=float32, numpy=0.00014190675574354827>, <tf.Tensor: shape=(), dtype=float32, numpy=-0.0004052639123983681>]\n",
      "[<tf.Tensor: shape=(), dtype=float32, numpy=0.0001331329403910786>, <tf.Tensor: shape=(), dtype=float32, numpy=-0.00038123130798339844>]\n",
      "[<tf.Tensor: shape=(), dtype=float32, numpy=0.00012550351675599813>, <tf.Tensor: shape=(), dtype=float32, numpy=-0.0003583431534934789>]\n"
     ]
    }
   ],
   "source": [
    "# 5. 학습 과정\n",
    "for step in range(100):  # 100번 반복\n",
    "    with tf.GradientTape() as tape:\n",
    "        y_pred = predict(x_data)  # 예측값\n",
    "        loss = loss_fn(y_data, y_pred)  # 손실 계산\n",
    "\n",
    "    # 가중치와 편향에 대한 경사도 계산 및 업데이트\n",
    "    gradients = tape.gradient(loss, [w, b])\n",
    "    print(gradients)\n",
    "    optimizer.apply_gradients(zip(gradients, [w, b]))\n",
    "\n",
    "    if step % 10 == 0:  # 10번마다 로그 출력\n",
    "        print(f\"Step {step}, Loss: {loss.numpy()}, w: {w.numpy()}, b: {b.numpy()}\")"
   ]
  }
 ],
 "metadata": {
  "kernelspec": {
   "display_name": ".venv",
   "language": "python",
   "name": "python3"
  },
  "language_info": {
   "codemirror_mode": {
    "name": "ipython",
    "version": 3
   },
   "file_extension": ".py",
   "mimetype": "text/x-python",
   "name": "python",
   "nbconvert_exporter": "python",
   "pygments_lexer": "ipython3",
   "version": "3.9.6"
  }
 },
 "nbformat": 4,
 "nbformat_minor": 2
}
