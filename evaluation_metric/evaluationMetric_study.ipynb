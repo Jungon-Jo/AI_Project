{
 "cells": [
  {
   "cell_type": "markdown",
   "metadata": {},
   "source": [
    "성능지표 분석"
   ]
  },
  {
   "cell_type": "markdown",
   "metadata": {},
   "source": [
    "MSE(Mean Squared Error, 평균제곱오차)"
   ]
  },
  {
   "cell_type": "code",
   "execution_count": 1,
   "metadata": {},
   "outputs": [
    {
     "name": "stdout",
     "output_type": "stream",
     "text": [
      "Mean Squared Error(MSE): 0.375\n"
     ]
    }
   ],
   "source": [
    "# 실제값과 예측값 정의\n",
    "actual_values = [3, -0.5, 2, 7] # 실제값 리스트\n",
    "predicted_values = [2.5, 0, 2, 8] # 예측값 리스트\n",
    "\n",
    "# MSE 계산\n",
    "squared_errors = [(a - p) ** 2 for a, p in zip(actual_values, predicted_values)] # 각 오차를 제곱\n",
    "mse = sum(squared_errors) / len(squared_errors) # 제곱 오차의 평균\n",
    "\n",
    "# 결과 출력\n",
    "print(\"Mean Squared Error(MSE):\", mse)"
   ]
  },
  {
   "cell_type": "markdown",
   "metadata": {},
   "source": [
    "RMSE(Root Mean Squared Error, 평균제곱근오차)"
   ]
  },
  {
   "cell_type": "code",
   "execution_count": 3,
   "metadata": {},
   "outputs": [
    {
     "name": "stdout",
     "output_type": "stream",
     "text": [
      "Root Mean Squared Error(RMSE): 0.6123724356957945\n"
     ]
    }
   ],
   "source": [
    "# 실제값과 예측값 정의\n",
    "actual_values = [3, -0.5, 2, 7] # 실제값 리스트\n",
    "predicted_values = [2.5, 0, 2, 8] # 예측값 리스트\n",
    "\n",
    "# RMSE 계산\n",
    "squared_errors = [(a - p) ** 2 for a, p in zip(actual_values, predicted_values)] # 각 오차를 제곱\n",
    "rmse = mse ** 0.5 # MSE의 제곱근을 계산하여 RMSE를 얻음\n",
    "\n",
    "# 결과 출력\n",
    "print(\"Root Mean Squared Error(RMSE):\", rmse)"
   ]
  },
  {
   "cell_type": "markdown",
   "metadata": {},
   "source": [
    "MAE(Mean Absolute Error, 평균절대오차)"
   ]
  },
  {
   "cell_type": "code",
   "execution_count": 4,
   "metadata": {},
   "outputs": [
    {
     "name": "stdout",
     "output_type": "stream",
     "text": [
      "Mean Absolute Error(MAE): 0.5\n"
     ]
    }
   ],
   "source": [
    "# 실제값과 예측값 정의\n",
    "actual_values = [3, -0.5, 2, 7]  # 실제값 리스트\n",
    "predicted_values = [2.5, 0, 2, 8]  # 예측값 리스트\n",
    "\n",
    "# MAE  계산\n",
    "absolute_errors = [abs(a - p) for a, p in zip(actual_values, predicted_values)] # 각 오차의 절대값\n",
    "mae = sum(absolute_errors) / len(absolute_errors) # 절대 오차의 평균\n",
    "\n",
    "# 결과 출력\n",
    "print(\"Mean Absolute Error(MAE):\", mae)"
   ]
  },
  {
   "cell_type": "markdown",
   "metadata": {},
   "source": [
    "Accuracy(정확도)"
   ]
  },
  {
   "cell_type": "code",
   "execution_count": 5,
   "metadata": {},
   "outputs": [
    {
     "name": "stdout",
     "output_type": "stream",
     "text": [
      "Accuracy: 0.8\n"
     ]
    }
   ],
   "source": [
    "# 실제값과 예측값 정의\n",
    "actual_values = [1, 0, 1, 1, 0, 1, 0, 0, 1, 0]  # 실제값 리스트 (0 또는 1)\n",
    "predicted_values = [1, 0, 1, 0, 0, 1, 1, 0, 1, 0]  # 예측값 리스트 (0 또는 1)\n",
    "\n",
    "# Accuracy 계산\n",
    "correct_predictions = sum([1 for a, p in zip(actual_values, predicted_values) if a == p])  # 정확히 예측한 개수\n",
    "accuracy = correct_predictions / len(actual_values)  # 전체 데이터 중 정확히 예측한 비율\n",
    "\n",
    "# 결과 출력\n",
    "print(\"Accuracy:\", accuracy)"
   ]
  },
  {
   "cell_type": "markdown",
   "metadata": {},
   "source": [
    "기타 예제"
   ]
  },
  {
   "cell_type": "code",
   "execution_count": 6,
   "metadata": {},
   "outputs": [
    {
     "name": "stdout",
     "output_type": "stream",
     "text": [
      "MSE Loss: 0.026666666666666655\n"
     ]
    }
   ],
   "source": [
    "import numpy as np\n",
    "\n",
    "# 예측 값\n",
    "y_pred = np.array([1.2, 0.7, 2.5])\n",
    "# 실제 값\n",
    "y_true = np.array([1.0, 0.5, 2.5])\n",
    "\n",
    "# MSE 계산\n",
    "def mse_loss(y_true, y_pred):\n",
    "  return np.mean((y_true - y_pred) ** 2)\n",
    "\n",
    "loss = mse_loss(y_true, y_pred)\n",
    "print(\"MSE Loss:\", loss)"
   ]
  }
 ],
 "metadata": {
  "kernelspec": {
   "display_name": ".venv",
   "language": "python",
   "name": "python3"
  },
  "language_info": {
   "codemirror_mode": {
    "name": "ipython",
    "version": 3
   },
   "file_extension": ".py",
   "mimetype": "text/x-python",
   "name": "python",
   "nbconvert_exporter": "python",
   "pygments_lexer": "ipython3",
   "version": "3.10.6"
  }
 },
 "nbformat": 4,
 "nbformat_minor": 2
}
