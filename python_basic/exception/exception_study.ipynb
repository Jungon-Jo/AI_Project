{
 "cells": [
  {
   "cell_type": "markdown",
   "metadata": {},
   "source": [
    "예외처리"
   ]
  },
  {
   "cell_type": "code",
   "execution_count": 5,
   "metadata": {},
   "outputs": [
    {
     "name": "stdout",
     "output_type": "stream",
     "text": [
      "정상적으로 입력되었습니다: 20\n",
      "작동 완료했습니다.\n"
     ]
    }
   ],
   "source": [
    "# 기본 구조\n",
    "# try: 예외가 발생할 가능성이 있는 코드\n",
    "# except [예외 타입] as 변수: 예외가 발생했을 때 실행할 코드\n",
    "# else: 예외가 발생하지 않았을 때 실행할 코드\n",
    "# finally: 예외 발생 여부와 상관없이 항상 실행할 코드\n",
    "\n",
    "# 예외가 발생할 가능성이 있는 코드\n",
    "try:\n",
    "    num = int(input(\"숫자를 입력하세요\"))\n",
    "except ValueError:\n",
    "    # 특정 예외가 발생했을 때 실행되는 코드\n",
    "    # 예외 타입을 명시하거나, 생략하여 모든 예외를 처리할 수 있음\n",
    "    print(\"유효한 숫자를 입력해야 합니다.\")\n",
    "else:\n",
    "    # 예외가 발생하지 않은 경우 실행되는 코드\n",
    "    print(f\"정상적으로 입력되었습니다: {num}\")\n",
    "finally:\n",
    "    # 예외 발생여부와 관계없이 항상 실행되는 코드로 주로 리소스해제(파일 닫기, 네트워크 종료 등)에 사용\n",
    "    print(\"작동 완료했습니다.\")"
   ]
  },
  {
   "cell_type": "markdown",
   "metadata": {},
   "source": [
    "예외 객체 활용"
   ]
  },
  {
   "cell_type": "code",
   "execution_count": 7,
   "metadata": {},
   "outputs": [
    {
     "name": "stdout",
     "output_type": "stream",
     "text": [
      "예외 발생: division by zero\n"
     ]
    }
   ],
   "source": [
    "# 예외를 변수로 받아서 상세 정보를 확인할 수 있음\n",
    "try:\n",
    "    result = 10/0\n",
    "except ZeroDivisionError as e:\n",
    "    print(f\"예외 발생: {e}\") # 출력: 예외발생: division by zero"
   ]
  },
  {
   "cell_type": "code",
   "execution_count": 8,
   "metadata": {},
   "outputs": [
    {
     "name": "stdout",
     "output_type": "stream",
     "text": [
      "0으로 나눌 수 없습니다.\n"
     ]
    }
   ],
   "source": [
    "# 구체적인 예외타입 처리\n",
    "# 일반적인 except 블록보다는 예외 타입을 명확히 지정\n",
    "try:\n",
    "    result = 10/0\n",
    "except ZeroDivisionError:\n",
    "    print(\"0으로 나눌 수 없습니다.\")"
   ]
  },
  {
   "cell_type": "code",
   "execution_count": 11,
   "metadata": {},
   "outputs": [
    {
     "ename": "NameError",
     "evalue": "name 'file' is not defined",
     "output_type": "error",
     "traceback": [
      "\u001b[0;31m---------------------------------------------------------------------------\u001b[0m",
      "\u001b[0;31mFileNotFoundError\u001b[0m                         Traceback (most recent call last)",
      "Cell \u001b[0;32mIn[11], line 4\u001b[0m\n\u001b[1;32m      3\u001b[0m \u001b[38;5;28;01mtry\u001b[39;00m:\n\u001b[0;32m----> 4\u001b[0m     file \u001b[38;5;241m=\u001b[39m \u001b[38;5;28;43mopen\u001b[39;49m\u001b[43m(\u001b[49m\u001b[38;5;124;43m\"\u001b[39;49m\u001b[38;5;124;43mexample.txt\u001b[39;49m\u001b[38;5;124;43m\"\u001b[39;49m\u001b[43m,\u001b[49m\u001b[43m \u001b[49m\u001b[38;5;124;43m\"\u001b[39;49m\u001b[38;5;124;43mr\u001b[39;49m\u001b[38;5;124;43m\"\u001b[39;49m\u001b[43m)\u001b[49m\n\u001b[1;32m      5\u001b[0m \u001b[38;5;28;01mfinally\u001b[39;00m:\n",
      "File \u001b[0;32m~/AI_Project/.venv/lib/python3.12/site-packages/IPython/core/interactiveshell.py:324\u001b[0m, in \u001b[0;36m_modified_open\u001b[0;34m(file, *args, **kwargs)\u001b[0m\n\u001b[1;32m    318\u001b[0m     \u001b[38;5;28;01mraise\u001b[39;00m \u001b[38;5;167;01mValueError\u001b[39;00m(\n\u001b[1;32m    319\u001b[0m         \u001b[38;5;124mf\u001b[39m\u001b[38;5;124m\"\u001b[39m\u001b[38;5;124mIPython won\u001b[39m\u001b[38;5;124m'\u001b[39m\u001b[38;5;124mt let you open fd=\u001b[39m\u001b[38;5;132;01m{\u001b[39;00mfile\u001b[38;5;132;01m}\u001b[39;00m\u001b[38;5;124m by default \u001b[39m\u001b[38;5;124m\"\u001b[39m\n\u001b[1;32m    320\u001b[0m         \u001b[38;5;124m\"\u001b[39m\u001b[38;5;124mas it is likely to crash IPython. If you know what you are doing, \u001b[39m\u001b[38;5;124m\"\u001b[39m\n\u001b[1;32m    321\u001b[0m         \u001b[38;5;124m\"\u001b[39m\u001b[38;5;124myou can use builtins\u001b[39m\u001b[38;5;124m'\u001b[39m\u001b[38;5;124m open.\u001b[39m\u001b[38;5;124m\"\u001b[39m\n\u001b[1;32m    322\u001b[0m     )\n\u001b[0;32m--> 324\u001b[0m \u001b[38;5;28;01mreturn\u001b[39;00m \u001b[43mio_open\u001b[49m\u001b[43m(\u001b[49m\u001b[43mfile\u001b[49m\u001b[43m,\u001b[49m\u001b[43m \u001b[49m\u001b[38;5;241;43m*\u001b[39;49m\u001b[43margs\u001b[49m\u001b[43m,\u001b[49m\u001b[43m \u001b[49m\u001b[38;5;241;43m*\u001b[39;49m\u001b[38;5;241;43m*\u001b[39;49m\u001b[43mkwargs\u001b[49m\u001b[43m)\u001b[49m\n",
      "\u001b[0;31mFileNotFoundError\u001b[0m: [Errno 2] No such file or directory: 'example.txt'",
      "\nDuring handling of the above exception, another exception occurred:\n",
      "\u001b[0;31mNameError\u001b[0m                                 Traceback (most recent call last)",
      "Cell \u001b[0;32mIn[11], line 6\u001b[0m\n\u001b[1;32m      4\u001b[0m     file \u001b[38;5;241m=\u001b[39m \u001b[38;5;28mopen\u001b[39m(\u001b[38;5;124m\"\u001b[39m\u001b[38;5;124mexample.txt\u001b[39m\u001b[38;5;124m\"\u001b[39m, \u001b[38;5;124m\"\u001b[39m\u001b[38;5;124mr\u001b[39m\u001b[38;5;124m\"\u001b[39m)\n\u001b[1;32m      5\u001b[0m \u001b[38;5;28;01mfinally\u001b[39;00m:\n\u001b[0;32m----> 6\u001b[0m     \u001b[43mfile\u001b[49m\u001b[38;5;241m.\u001b[39mclose()\n",
      "\u001b[0;31mNameError\u001b[0m: name 'file' is not defined"
     ]
    }
   ],
   "source": [
    "# finally 블록 활용\n",
    "# 파일, 네트워크 등 리소스 해제는 반드시 finally에서 처리\n",
    "try:\n",
    "    file = open(\"example.txt\", \"r\")\n",
    "finally:\n",
    "    file.close()"
   ]
  },
  {
   "cell_type": "code",
   "execution_count": 12,
   "metadata": {},
   "outputs": [
    {
     "name": "stdout",
     "output_type": "stream",
     "text": [
      "정상 입력: 20\n"
     ]
    }
   ],
   "source": [
    "# else와의 조합\n",
    "# 예외가 발생하지 않은 경우와 발생한 경우를 명확히 구분하여 코드 작성\n",
    "try:\n",
    "    num = int(input(\"숫자를 입력하세요: \"))\n",
    "except ValueError:\n",
    "    print(\"숫자가 아닙니다.\")\n",
    "else:\n",
    "    print(f\"정상 입력: {num}\")"
   ]
  },
  {
   "cell_type": "markdown",
   "metadata": {},
   "source": [
    "불필요한 예외남용 금지"
   ]
  },
  {
   "cell_type": "code",
   "execution_count": 14,
   "metadata": {},
   "outputs": [
    {
     "name": "stdout",
     "output_type": "stream",
     "text": [
      "20님. 당신의 나이는 29살\n"
     ]
    }
   ],
   "source": [
    "# 잘못된 예시\n",
    "try:\n",
    "    # 예외가 발생할 가능성 있는 코드까지 포함\n",
    "    name = input(\"이름 입력: \")\n",
    "    age = int(input(\"나이 입력: \"))\n",
    "    print(f\"{name}님. 당신의 나이는 {age}살\")\n",
    "except ValueError:\n",
    "    print(\"옳바른 숫자를 입력하세요.\")\n",
    "\n",
    "# name = input(...) 은 예외를 발생시키지 않으므로 try 블록에 포함할 필요가 없음"
   ]
  },
  {
   "cell_type": "code",
   "execution_count": 15,
   "metadata": {},
   "outputs": [
    {
     "name": "stdout",
     "output_type": "stream",
     "text": [
      "조준곤님. 당신의 나이는 30살\n"
     ]
    }
   ],
   "source": [
    "# 개선된 예시\n",
    "name = input(\"이름 입력: \")\n",
    "try:\n",
    "    age = int(input(\"나이 입력: \"))\n",
    "    print(f\"{name}님. 당신의 나이는 {age}살\")\n",
    "except ValueError:\n",
    "    print(\"옳바른 숫자를 입력하세요.\")\n",
    "\n",
    "# try 블록에는 숫자 변환처럼 예외 발생 가능성이 높은 코드만 포함"
   ]
  }
 ],
 "metadata": {
  "kernelspec": {
   "display_name": ".venv",
   "language": "python",
   "name": "python3"
  },
  "language_info": {
   "codemirror_mode": {
    "name": "ipython",
    "version": 3
   },
   "file_extension": ".py",
   "mimetype": "text/x-python",
   "name": "python",
   "nbconvert_exporter": "python",
   "pygments_lexer": "ipython3",
   "version": "3.12.8"
  }
 },
 "nbformat": 4,
 "nbformat_minor": 2
}
