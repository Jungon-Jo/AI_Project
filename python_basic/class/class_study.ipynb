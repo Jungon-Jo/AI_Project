{
 "cells": [
  {
   "cell_type": "markdown",
   "metadata": {},
   "source": [
    "Class"
   ]
  },
  {
   "cell_type": "code",
   "execution_count": null,
   "metadata": {},
   "outputs": [],
   "source": [
    "# 객체를 만들기 위한 설계도\n",
    "# 관련된 데이터(속성)와 함수(메서드)를 하나로 묶어서 관리할 수 있음\n",
    "\n",
    "# 특징\n",
    "\n",
    "# 속성\n",
    "# 클래스 내부의 변수로, 객체가 가지는 데이터를 저장함\n",
    "# self 키워드를 사용해 정의하고, 객체별로 독립적으로 관리됨\n",
    "# 예시 : self.name = name\n",
    "\n",
    "# 메서드\n",
    "# 클래스 내부의 함수로, 객체가 할 수 있는 행동(동작)을 정의\n",
    "# 메서드는 항상 처번째 인자로 self를 받아 객체 자신을 참조함\n",
    "# 예시 : \n",
    "# def greet(self):\n",
    "#   print(\"Hello!\")\n",
    "\n",
    "# 생성자\n",
    "# _init_메서드는 객체 생성 시 자동으로 호출되어 초기화 작업을 함\n",
    "# 객체 생성 시 전달받은 값을 속성에 할당하는 데 주로 사용됨\n",
    "# 예시 :\n",
    "# def __init__(self, name, age):\n",
    "#   self.name = name\n",
    "#   self.age = age\n",
    "\n",
    "# 캡슐화\n",
    "# 속성이나 메서드를 외부에서 직접 접근하지 못하도록 보호\n",
    "# 이름 앞에 밑줄 두개(__)를 붙이면 비공개(private) 속성/메서드가 됨\n",
    "# 예시 :\n",
    "# class Person:\n",
    "#   def __init__(self, name, age):\n",
    "#     self.__name = name // private 속성\n",
    "#     self.age = age\n",
    "#   def get_name(self):\n",
    "#     return self.__name // private 속성에 접근하는 메서드\n",
    "\n",
    "# 상속\n",
    "# 기존 클래스를 상속받아 새로운 클래스를 생성할 수 있음\n",
    "# 상속을 통해 기존 클래스의 기능을 재사용하고 확장\n",
    "# 예시 :\n",
    "# class Student(Person): // Person 클래스를 상속\n",
    "#   def __init__(self, name, age, student_id):\n",
    "#     super().__init__(name, age) // 부모 클래스 초기화\n",
    "#     self.student_id = student_id\n",
    "\n",
    "# 클래스의 장점\n",
    "# 코드 재사용 : 한 번의 정의한 클래스를 여로 곳에서 재사용 가능\n",
    "# 구조화된 코드 : 속성과 동작을 묶어 관리하므로 코드 가독성 증가\n",
    "# 유지보수 용이 : 캡슐화와 상속을 통해 확장성과 유지보수성 강화"
   ]
  },
  {
   "cell_type": "markdown",
   "metadata": {},
   "source": [
    "Class 사용 예시"
   ]
  },
  {
   "cell_type": "code",
   "execution_count": 2,
   "metadata": {},
   "outputs": [
    {
     "name": "stdout",
     "output_type": "stream",
     "text": [
      "멍멍이가 짖습니다!\n"
     ]
    }
   ],
   "source": [
    "# 간단한 클래스 예제\n",
    "class Dog:\n",
    "  # 초기화 메서드 (생성자)\n",
    "  def __init__(self, name):\n",
    "    self.name = name # 인스턴스 변수\n",
    "  def bark(self):\n",
    "    print(f\"{self.name}가 짖습니다!\")\n",
    "\n",
    "# 객체 생성\n",
    "my_dog = Dog(\"멍멍이\")\n",
    "my_dog.bark() # 출력 : 멍멍이가 짖습니다!"
   ]
  },
  {
   "cell_type": "code",
   "execution_count": 5,
   "metadata": {},
   "outputs": [
    {
     "name": "stdout",
     "output_type": "stream",
     "text": [
      "나비\n",
      "나비가 야옹하고 웁니다.\n",
      "미야\n",
      "미야가 야옹하고 웁니다.\n"
     ]
    }
   ],
   "source": [
    "# 클래스 상속 예제\n",
    "class Animal:\n",
    "  def __init__(self, name):\n",
    "    self.name = name\n",
    "  def speak(self):\n",
    "    pass\n",
    "\n",
    "class Cat(Animal): # Animal 클래스를 상속\n",
    "  def speak(self):\n",
    "    return f\"{self.name}가 야옹하고 웁니다.\"\n",
    "  \n",
    "# 객체 생성 및 사용\n",
    "cat1 = Cat(\"나비\") # Cat 클래스의 인스턴스(객체) 생성\n",
    "print(cat1.name)\n",
    "print(cat1.speak())\n",
    "cat2 = Cat(\"미야\")\n",
    "print(cat2.name)\n",
    "print(cat2.speak())"
   ]
  },
  {
   "cell_type": "code",
   "execution_count": 8,
   "metadata": {},
   "outputs": [
    {
     "name": "stdout",
     "output_type": "stream",
     "text": [
      "1000\n"
     ]
    }
   ],
   "source": [
    "# 클래스 캡슐화 예제\n",
    "class BankAccount:\n",
    "  def __init__(self):\n",
    "    self.__balance = 0 # 비공개 변수\n",
    "  def deposit(self, amount):\n",
    "    if amount > 0:\n",
    "      self.__balance += amount\n",
    "  def get_balance(self):\n",
    "    return self.__balance\n",
    "  \n",
    "# 객체 생성 및 사용\n",
    "account = BankAccount()\n",
    "account.deposit(1000)\n",
    "print(account.get_balance())"
   ]
  },
  {
   "cell_type": "code",
   "execution_count": 10,
   "metadata": {},
   "outputs": [
    {
     "name": "stdout",
     "output_type": "stream",
     "text": [
      "파이썬 고등학교\n",
      "파이썬 고등학교\n",
      "파이썬 고등학교\n",
      "2\n"
     ]
    }
   ],
   "source": [
    "# 클래스 캡슐화 예제\n",
    "class Student:\n",
    "  school_name = \"파이썬 고등학교\" # 클래스 변수\n",
    "  student_count = 0 # 클래스 변수\n",
    "  def __init__(self, name):\n",
    "    self.name = name # 인스턴스 변수\n",
    "    Student.student_count += 1\n",
    "\n",
    "# 객체 생성 및 사용\n",
    "student1 = Student(\"김철수\")\n",
    "student2 = Student(\"이영희\")\n",
    "\n",
    "print(Student.school_name) # 출력 : 파이썬 고등학교\n",
    "print(student1.school_name) # 출력 : 파이썬 고등학교\n",
    "print(student2.school_name) # 출력 : 파이썬 고등학교\n",
    "print(Student.student_count) # 출력 : 2"
   ]
  },
  {
   "cell_type": "code",
   "execution_count": 11,
   "metadata": {},
   "outputs": [
    {
     "name": "stdout",
     "output_type": "stream",
     "text": [
      "계산기를 초기화 합니다.\n",
      "덧셈 결과:  30\n",
      "곱셈 결과:  200\n"
     ]
    }
   ],
   "source": [
    "# 클래스 계신기 예제\n",
    "class Calculator:\n",
    "  # 초기화 메서드 : 아무 상태 없이 계산만 수행\n",
    "  def __init__(self):\n",
    "    print(\"계산기를 초기화 합니다.\")\n",
    "  def add(self, a, b):\n",
    "    return a + b\n",
    "  def multiply(self, a, b):\n",
    "    return a * b\n",
    "  \n",
    "# 객체 생성 및 사용\n",
    "calc = Calculator() # 출력 : 계산기를 초기화 합니다.\n",
    "print(\"덧셈 결과: \", calc.add(10, 20))\n",
    "print(\"곱셈 결과: \", calc.multiply(10, 20))"
   ]
  },
  {
   "cell_type": "code",
   "execution_count": 12,
   "metadata": {},
   "outputs": [
    {
     "name": "stdout",
     "output_type": "stream",
     "text": [
      "이름 : 홍길동, 나이 : 19\n",
      "이름 : 김철수, 나이 : 17\n"
     ]
    }
   ],
   "source": [
    "# 클래스 학생정보 관리\n",
    "class Student:\n",
    "  # 생성자 : 학생 이름과 나이를 초기화\n",
    "  def __init__(self, name, age):\n",
    "    self.name = name\n",
    "    self.age = age\n",
    "  # 학생 정보 출력 메서드\n",
    "  def display_info(self):\n",
    "    print(f\"이름 : {self.name}, 나이 : {self.age}\")\n",
    "    \n",
    "# 객체 생성 및 사용\n",
    "student1 = Student(\"홍길동\", 19)\n",
    "student2 = Student(\"김철수\", 17)\n",
    "\n",
    "student1.display_info()\n",
    "student2.display_info()"
   ]
  },
  {
   "cell_type": "code",
   "execution_count": 20,
   "metadata": {},
   "outputs": [
    {
     "name": "stdout",
     "output_type": "stream",
     "text": [
      "어벤져스 영화의 할인된 가격: 10000원\n"
     ]
    }
   ],
   "source": [
    "# 클래스 영화 티켓 할인\n",
    "class MovieTicket:\n",
    "  # 생성자 : 영화 제목과 기본 티켓 가격 초기화\n",
    "  def __init__(self, title, price):\n",
    "    self.title = title\n",
    "    self.price = price\n",
    "    \n",
    "  # 할인 적용 메서드\n",
    "  def apply_discount(self, discount):\n",
    "    self.price -= discount\n",
    "    print(f\"{self.title} 영화의 할인된 가격: {self.price}원\")\n",
    "    \n",
    "  # 객체 생성 및 사용\n",
    "ticket = MovieTicket(\"어벤져스\", 12000)\n",
    "ticket.apply_discount(2000)"
   ]
  },
  {
   "cell_type": "code",
   "execution_count": 18,
   "metadata": {},
   "outputs": [
    {
     "name": "stdout",
     "output_type": "stream",
     "text": [
      "5000원이 입금되었습니다. 현재 잔액: 105000원\n",
      "20000원이 출금되었습니다. 현재 잔액: 85000원\n"
     ]
    }
   ],
   "source": [
    "# 클래스 은행 계좌 관리\n",
    "class BankAccount:\n",
    "  def __init__(self, owner, balance = 0):\n",
    "    self.owner = owner\n",
    "    self.balance = balance\n",
    "  \n",
    "  # 입금\n",
    "  def deposit(self, amount):\n",
    "    self.balance += amount\n",
    "    print(f\"{amount}원이 입금되었습니다. 현재 잔액: {self.balance}원\")\n",
    "  # 출금\n",
    "  def withdraw(self, amount):\n",
    "    if amount > self.balance:\n",
    "      print(\"잔액이 부족합니다.\")\n",
    "    else:\n",
    "      self.balance -= amount\n",
    "      print(f\"{amount}원이 출금되었습니다. 현재 잔액: {self.balance}원\")\n",
    "      \n",
    "# 객체 생성 및 사용\n",
    "account = BankAccount(\"홍길동\", 100000)\n",
    "account.deposit(5000)\n",
    "account.withdraw(20000)"
   ]
  }
 ],
 "metadata": {
  "kernelspec": {
   "display_name": ".venv",
   "language": "python",
   "name": "python3"
  },
  "language_info": {
   "codemirror_mode": {
    "name": "ipython",
    "version": 3
   },
   "file_extension": ".py",
   "mimetype": "text/x-python",
   "name": "python",
   "nbconvert_exporter": "python",
   "pygments_lexer": "ipython3",
   "version": "3.10.6"
  }
 },
 "nbformat": 4,
 "nbformat_minor": 2
}
