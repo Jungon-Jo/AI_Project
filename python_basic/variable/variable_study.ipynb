{
 "cells": [
  {
   "cell_type": "code",
   "execution_count": 1,
   "metadata": {},
   "outputs": [
    {
     "name": "stdout",
     "output_type": "stream",
     "text": [
      "10 -20\n"
     ]
    }
   ],
   "source": [
    "num1 = 10;\n",
    "num2 = -20;\n",
    "print(num1, num2);"
   ]
  },
  {
   "cell_type": "code",
   "execution_count": 2,
   "metadata": {},
   "outputs": [
    {
     "name": "stdout",
     "output_type": "stream",
     "text": [
      "apple -2.718\n"
     ]
    }
   ],
   "source": [
    "#변수의 자료형이 의미가 없나....?\n",
    "num1 = 3.14;\n",
    "num2 = -2.718;\n",
    "num1 = \"apple\";\n",
    "print(num1, num2);"
   ]
  },
  {
   "cell_type": "code",
   "execution_count": 3,
   "metadata": {},
   "outputs": [
    {
     "name": "stdout",
     "output_type": "stream",
     "text": [
      "Hello Python\n",
      "This is\n",
      "my cell\n",
      "phone\n"
     ]
    }
   ],
   "source": [
    "#\"\"\"\"\"\" : 큰 따옴표 및 작은 따옴표 3개 사용 시, 문자열의 줄바꿈이 가능\n",
    "str1 = \"Hello\";\n",
    "str2 = 'Python';\n",
    "print(str1, str2);\n",
    "\n",
    "str3 = \"\"\"This is\n",
    "my cell\n",
    "phone\"\"\";\n",
    "print(str3);"
   ]
  },
  {
   "cell_type": "code",
   "execution_count": 4,
   "metadata": {},
   "outputs": [
    {
     "name": "stdout",
     "output_type": "stream",
     "text": [
      "P\n",
      "n\n",
      "Pyt\n",
      "Py\n",
      "Pto\n"
     ]
    }
   ],
   "source": [
    "#[] : 값의 index를 의미\n",
    "text = \"Python\";\n",
    "print(text[0]);\n",
    "print(text[-1]);\n",
    "print(text[0:3]);\n",
    "print(text[0:-4]);\n",
    "print(text[::2]);"
   ]
  },
  {
   "cell_type": "code",
   "execution_count": 5,
   "metadata": {},
   "outputs": [
    {
     "name": "stdout",
     "output_type": "stream",
     "text": [
      "PYTHON\n",
      "python\n"
     ]
    }
   ],
   "source": [
    "#upper() : 문자열 모두를 대문자로 변환\n",
    "#lower() : 문자열 모두를 소문자로 변환\n",
    "print(text.upper());\n",
    "print(text.lower());"
   ]
  },
  {
   "cell_type": "code",
   "execution_count": 6,
   "metadata": {},
   "outputs": [
    {
     "name": "stdout",
     "output_type": "stream",
     "text": [
      "1\n",
      "0\n",
      "-1\n",
      "1\n",
      "3\n"
     ]
    }
   ],
   "source": [
    "#find() : 특정 문자의 인덱스 반환\n",
    "#count() : 특정 문자의 개수 세기\n",
    "print(text.find(\"y\"));\n",
    "print(text.find(\"P\"));\n",
    "print(text.find(\"p\"));\n",
    "print(text.count(\"h\"));\n",
    "text = \"banana\";\n",
    "print(text.count(\"a\"));"
   ]
  },
  {
   "cell_type": "code",
   "execution_count": 7,
   "metadata": {},
   "outputs": [
    {
     "name": "stdout",
     "output_type": "stream",
     "text": [
      "Hello, World\n",
      "Hello, World \n",
      " Hello, World\n",
      "ello, World \n"
     ]
    }
   ],
   "source": [
    "#strip() : 문자열 양쪽 끝 공백 제거\n",
    "#lstrip(), rstrip() : 왼쪽 또는 오른쪽 공백만 제거\n",
    "text = \" Hello, World \";\n",
    "print(text.strip());\n",
    "print(text.lstrip());\n",
    "print(text.rstrip());\n",
    "text = \"Hello, World \";\n",
    "print(text.lstrip(\"H\"));"
   ]
  },
  {
   "cell_type": "code",
   "execution_count": 8,
   "metadata": {},
   "outputs": [
    {
     "name": "stdout",
     "output_type": "stream",
     "text": [
      "['Python', 'is', 'fun']\n",
      "Python is fun\n"
     ]
    }
   ],
   "source": [
    "#split() : 특정 구분자로 문자열을 나누어 리스트로 반환\n",
    "#join() : 리스트의 문자열을 특정 구분자로 연결하여 하나의 문자열로 반환(연결의 의미)\n",
    "text = \"Python is fun\";\n",
    "words = text.split(); #공백 기준으로 분할\n",
    "print(words)\n",
    "joined_text = \" \".join(words);\n",
    "print(joined_text);"
   ]
  },
  {
   "cell_type": "code",
   "execution_count": 9,
   "metadata": {},
   "outputs": [
    {
     "name": "stdout",
     "output_type": "stream",
     "text": [
      "My name is Alice, and I am 30 years old\n"
     ]
    }
   ],
   "source": [
    "#formatting\n",
    "#파이썬은 문자열 내에 다양한 방법으로 변수를 삽입 가능\n",
    "#f\"\" : 파이썬 3.6부터 도입된 간결한 문자열 formatting 방식, 문자열 앞에 f를 붙여 사용\n",
    "#중괄호 {}안에 변수나 표현식을 직접 넣어 문자열에 포함 시킬 수 있음\n",
    "name = \"Alice\";\n",
    "age = 30;\n",
    "print(f\"My name is {name}, and I am {age} years old\");"
   ]
  },
  {
   "cell_type": "code",
   "execution_count": 10,
   "metadata": {},
   "outputs": [
    {
     "name": "stdout",
     "output_type": "stream",
     "text": [
      "Hello\n",
      "Python\n",
      "탭을\t사용한\t예시\n",
      "백슬래시는 이렇게\\출력\n"
     ]
    }
   ],
   "source": [
    "#\\n : 줄바꿈\n",
    "#\\t : 탭\n",
    "#\\\\ : 백슬래시\n",
    "print(\"Hello\\nPython\");\n",
    "print(\"탭을\\t사용한\\t예시\");\n",
    "print(\"백슬래시는 이렇게\\\\출력\");"
   ]
  },
  {
   "cell_type": "code",
   "execution_count": 11,
   "metadata": {},
   "outputs": [
    {
     "name": "stdout",
     "output_type": "stream",
     "text": [
      "False\n",
      "True\n",
      "False\n",
      "접근 거부\n"
     ]
    }
   ],
   "source": [
    "#and : 두 조건이 모두 참일 때 참\n",
    "#not : 조건의 값을 반전시킴\n",
    "#or : 둘 중 하나라도 참이면 참\n",
    "a = True;\n",
    "b = False;\n",
    "print(a and b);\n",
    "print(a or b);\n",
    "print(not a);\n",
    "\n",
    "is_authenticated = True;\n",
    "has_permission = False;\n",
    "if is_authenticated and has_permission:\n",
    "  print(\"접근 허용\");\n",
    "else:\n",
    "  print(\"접근 거부\");"
   ]
  },
  {
   "cell_type": "code",
   "execution_count": 12,
   "metadata": {},
   "outputs": [
    {
     "name": "stdout",
     "output_type": "stream",
     "text": [
      "apple\n",
      "banana\n",
      "['apple', 'bananan']\n"
     ]
    }
   ],
   "source": [
    "#list(리스트)\n",
    "#여러개의 값을 하나의 변수에 담을 수 있는 순서가 있는 데이터 자료형으로 대괄호[] 안에 \",\"로 구분하여 정의\n",
    "#수정 가능하고 중복이 허용되며 다양한 데이터 유형을 한 리스트에 담을 수 있음\n",
    "\n",
    "#빈 리스트 생성\n",
    "empty_list = [];\n",
    "#초기값 설정\n",
    "numbers = [1, 2, 3, 4, 5];\n",
    "fruits = [\"apple\", \"bananan\", \"cherry\"];\n",
    "fruitsNumber = [1, 2, \"apple\", \"banana\"];\n",
    "print(fruits[0]);\n",
    "print(fruitsNumber[3]);\n",
    "print(fruits[0:2]);"
   ]
  },
  {
   "cell_type": "code",
   "execution_count": 13,
   "metadata": {},
   "outputs": [
    {
     "name": "stdout",
     "output_type": "stream",
     "text": [
      "[3, 1, 4, 1, 5, 9]\n",
      "[3, 1, 4, 1, 5, 9, 'blueberry']\n",
      "[3, 4, 1, 5, 9, 'blueberry']\n",
      "[3, 4, 1, 5, 9]\n",
      "[1, 3, 4, 5, 9]\n",
      "[1, 3, 5, 9]\n",
      "4\n",
      "[9, 5, 3, 1]\n",
      "1\n",
      "[9, 5, 3, 1]\n",
      "[9, 5, 3, 1, 6, 7, 8]\n",
      "[9, 5, 3, 1, 6, 7, 8, 10, 11, 12]\n",
      "[9, 5, 3, 1, 6, 7, 8, [1, 2, 3]]\n",
      "[9, 5, 3, 1, 6, 7, 8, [1, 2, 3]]\n"
     ]
    }
   ],
   "source": [
    "#append() : 리스트 마지막 인덱스 다음 요소 추가\n",
    "#extend() : 리스트 확장\n",
    "#copy() : 리스트 복사\n",
    "#concatenate() : 리스트 합치기\n",
    "#count() : 리스트 요소 개수 세기\n",
    "#remove() : 인덱스 순서대로 조회하여 제일 처음 일치하는 요소 제거\n",
    "#sort() : 요소를 오름차순으로 정렬\n",
    "#pop() : 특정 위치의 요소를 추출 및 삭제(지정된 값을 추출하고 나머지 값들은 삭제)\n",
    "#reverse() : 요소의 순서를 반대로 정렬\n",
    "numbers = [3, 1, 4, 1, 5];\n",
    "numbers.append(9);\n",
    "print(numbers);\n",
    "numbers.append(\"blueberry\");\n",
    "print(numbers);\n",
    "numbers #print를 해주지 않아도 출력 가능\n",
    "numbers.remove(1);\n",
    "print(numbers);\n",
    "# numbers.sort();\n",
    "numbers; #문자가 포함되어 있어 에러 발생\n",
    "numbers.remove(\"blueberry\");\n",
    "print(numbers);\n",
    "numbers.sort();\n",
    "print(numbers);\n",
    "removed_item = numbers.pop(2);\n",
    "print(numbers);\n",
    "print(removed_item);\n",
    "numbers.reverse();\n",
    "print(numbers);\n",
    "count = numbers.count(5);\n",
    "print(count);\n",
    "new_numbers = numbers.copy();\n",
    "print(new_numbers);\n",
    "numbers.extend([6, 7, 8]);\n",
    "print(numbers);\n",
    "another_list = [10, 11, 12];\n",
    "combined_list = numbers + another_list; #concatenate\n",
    "print(combined_list);\n",
    "numbers.append([1, 2, 3]);\n",
    "print(numbers); #append에 입력된 리스트가 numbers의 요소로 입력\n",
    "newnew_numbers = numbers;\n",
    "print(newnew_numbers);"
   ]
  },
  {
   "cell_type": "code",
   "execution_count": 14,
   "metadata": {},
   "outputs": [],
   "source": [
    "#tuple(튜플)\n",
    "#여러개의 값을 하나의 변수에 답을 수 있는 순서가 있는 데이터 자료형\n",
    "#리스트와는 달리 수정할 수 없고 중복은 허용되며, 튜플은 소괄호() 안에 값을 콤마 \",\"로 구분하여 정의\n",
    "\n",
    "#빈 튜플 생성\n",
    "empty_tuple = ();\n",
    "#한개의 요소를 가진 튜플 : 단일 요소일 때는 콤마가 필요\n",
    "single_element = (5,);\n",
    "#인덱스와 슬라이싱은 리스트와 동일하게 동작"
   ]
  },
  {
   "cell_type": "code",
   "execution_count": 15,
   "metadata": {},
   "outputs": [
    {
     "name": "stdout",
     "output_type": "stream",
     "text": [
      "{'name': 'Jungon', 'age': 30, 'city': 'Incheon'}\n",
      "Jungon\n",
      "31\n",
      "Incheon\n",
      "Jungon\n",
      "dict_keys(['name', 'age', 'city'])\n",
      "dict_values(['Jungon', 31, 'Incheon'])\n",
      "dict_items([('name', 'Jungon'), ('age', 31), ('city', 'Incheon')])\n"
     ]
    }
   ],
   "source": [
    "#dict(딕셔너리)\n",
    "#키(key) - 값(value) 쌍으로 데이터를 저장하는 매핑 타입의 자료형\n",
    "#요소 추가, 수정, 삭제가 가능하며, 표기는 중괄호{} 안에 key:value 형태로 값을 저장\n",
    "empty_dict = {};\n",
    "person = {\"name\":\"Jungon\", \"age\":30, \"city\":\"Incheon\"};\n",
    "print(person);\n",
    "print(person[\"name\"]);\n",
    "\n",
    "#값 수정\n",
    "person[\"age\"] = 31;\n",
    "print(person[\"age\"]);\n",
    "print(person.get(\"city\"))\n",
    "\n",
    "#키에 대응하는 값 반환\n",
    "info = person.copy();\n",
    "print(info.get(\"name\"));\n",
    "\n",
    "#모든 키를 반환\n",
    "print(info.keys());\n",
    "\n",
    "#모든 값을 반환\n",
    "print(info.values());\n",
    "\n",
    "#키-값 쌍을 튜플 형태로 반환\n",
    "print(info.items());"
   ]
  },
  {
   "cell_type": "code",
   "execution_count": 16,
   "metadata": {},
   "outputs": [
    {
     "name": "stdout",
     "output_type": "stream",
     "text": [
      "oxoxoxoxoxoxoxox\n"
     ]
    }
   ],
   "source": [
    "#replace() 함수 : (\"기존값\", \"변경값\", \"변경할 횟수\")\n",
    "a = \"oxoxoxoxoxoxoxox\"\n",
    "a.replace(\"ox\", \"*\", 1)\n",
    "print(a)"
   ]
  },
  {
   "cell_type": "code",
   "execution_count": 17,
   "metadata": {},
   "outputs": [
    {
     "name": "stdout",
     "output_type": "stream",
     "text": [
      "테스트에 합격하셨습니다.\n"
     ]
    }
   ],
   "source": [
    "#단순 if 문\n",
    "score = 85\n",
    "if score > 80:\n",
    "  print(\"테스트에 합격하셨습니다.\")"
   ]
  },
  {
   "cell_type": "code",
   "execution_count": 18,
   "metadata": {},
   "outputs": [
    {
     "name": "stdout",
     "output_type": "stream",
     "text": [
      "홀수입니다.\n"
     ]
    }
   ],
   "source": [
    "#if-else문\n",
    "number = 5\n",
    "if number % 2 == 0:\n",
    "  print(\"짝수입니다.\")\n",
    "else:\n",
    "  print(\"홀수입니다.\")"
   ]
  },
  {
   "cell_type": "code",
   "execution_count": 19,
   "metadata": {},
   "outputs": [
    {
     "name": "stdout",
     "output_type": "stream",
     "text": [
      "B학점\n"
     ]
    }
   ],
   "source": [
    "#if-elif-else문\n",
    "score = 85\n",
    "if score >= 90:\n",
    "  print(\"A학점\")\n",
    "elif score >= 80:\n",
    "  print(\"B학점\")\n",
    "else:\n",
    "  print(\"C학점\")"
   ]
  },
  {
   "cell_type": "code",
   "execution_count": 21,
   "metadata": {},
   "outputs": [
    {
     "name": "stdout",
     "output_type": "stream",
     "text": [
      "조건을 만족합니다.\n"
     ]
    }
   ],
   "source": [
    "#if문 활용 팁\n",
    "#조건식 간소화 : 복잡한 조건은 논리 연산자(and, or, not)를 사용\n",
    "#중첩 피하기 : 여러 조건은 elif로 나누어 가독성 향상\n",
    "#디버깅 편리 : print()문으로 조건 결과 확인\n",
    "x, y = 10, 20\n",
    "if x > 5 and y < 30:\n",
    "  print(\"조건을 만족합니다.\")"
   ]
  },
  {
   "cell_type": "code",
   "execution_count": 22,
   "metadata": {},
   "outputs": [
    {
     "name": "stdout",
     "output_type": "stream",
     "text": [
      "2\n",
      "4\n",
      "6\n",
      "8\n",
      "10\n"
     ]
    }
   ],
   "source": [
    "#for문\n",
    "#반복 가능한 객체(리스트, 투플, 문자열 등)의 각 요소를 순회하며 코드를 실행하는 반복문\n",
    "#특정 작업을 반복적으로 수행할 때 사용하고, 반복 횟수를 명확히 제어 가능\n",
    "numbers = [1, 2, 3, 4, 5]\n",
    "for num in numbers:\n",
    "  print(num*2)"
   ]
  },
  {
   "cell_type": "code",
   "execution_count": 24,
   "metadata": {},
   "outputs": [
    {
     "name": "stdout",
     "output_type": "stream",
     "text": [
      "현재 값: 1\n",
      "현재 값: 2\n",
      "현재 값: 3\n",
      "현재 값: 4\n",
      "현재 값: 5\n"
     ]
    }
   ],
   "source": [
    "#range()와 함께 사용\n",
    "#range() 함수로 반복 횟수를 지정\n",
    "#range(시작값, 종료값, 증가값)\n",
    "for i in range(1, 6):\n",
    "  print(f\"현재 값: {i}\")"
   ]
  },
  {
   "cell_type": "code",
   "execution_count": 25,
   "metadata": {},
   "outputs": [
    {
     "name": "stdout",
     "output_type": "stream",
     "text": [
      "i: 1, j: 1\n",
      "i: 1, j: 2\n",
      "i: 2, j: 1\n",
      "i: 2, j: 2\n",
      "i: 3, j: 1\n",
      "i: 3, j: 2\n"
     ]
    }
   ],
   "source": [
    "#중첩 for문\n",
    "for i in range(1, 4):\n",
    "  for j in range(1, 3):\n",
    "    print(f\"i: {i}, j: {j}\")"
   ]
  },
  {
   "cell_type": "code",
   "execution_count": 27,
   "metadata": {},
   "outputs": [
    {
     "name": "stdout",
     "output_type": "stream",
     "text": [
      "인덱스 0: A\n",
      "인덱스 1: B\n",
      "인덱스 2: C\n"
     ]
    }
   ],
   "source": [
    "#enumerate()\n",
    "#시퀀스(리스트, 튜플, 문자열 등)를 순회하면서 각요소의 인덱스와 값을 튜플 형태로 함께 반환하는 내장 함수\n",
    "#반복문을 돌면서 현재 어떤 인덱스의 값을 처리하고 있는 지 알고 싶을 때 용이\n",
    "items = [\"A\", \"B\", \"C\"]\n",
    "for idx, item in enumerate(items):\n",
    "  print(f\"인덱스 {idx}: {item}\")"
   ]
  },
  {
   "cell_type": "code",
   "execution_count": 28,
   "metadata": {},
   "outputs": [
    {
     "name": "stdout",
     "output_type": "stream",
     "text": [
      "Count: 0\n",
      "Count: 1\n",
      "Count: 2\n",
      "Count: 3\n",
      "Count: 4\n"
     ]
    }
   ],
   "source": [
    "#while문\n",
    "#조건이 참(True)인 동안 특정 코드를 반복 실행하는 반복문으로 반복 횟수를 사전에 알 수 없을 때 주로 사용\n",
    "#조건식의 값이 변하지 않으면 무한 루프가 발생할 수 있음\n",
    "#종료 조건을 명시적으로 설정해야 안전\n",
    "#조건식이 False가 되면 반복 종료\n",
    "count = 0\n",
    "while count < 5:\n",
    "  print(f\"Count: {count}\")\n",
    "  count += 1"
   ]
  },
  {
   "cell_type": "code",
   "execution_count": 30,
   "metadata": {},
   "outputs": [],
   "source": [
    "#무한루프\n",
    "#종료 조건 없이 True를 조건식으로 설정\n",
    "#반드시 break문으로 종료 조건 설정\n",
    "while True:\n",
    "  user_input = input(\"종료하려면 'exit' 입력: \")\n",
    "  if user_input == \"exit\":\n",
    "    break"
   ]
  },
  {
   "cell_type": "code",
   "execution_count": 32,
   "metadata": {},
   "outputs": [
    {
     "name": "stdout",
     "output_type": "stream",
     "text": [
      "5\n",
      "4\n",
      "3\n",
      "2\n",
      "1\n",
      "반복 종료\n"
     ]
    }
   ],
   "source": [
    "#조건과 else 사용\n",
    "#조건이 False로 바뀌면 else 블록 실행\n",
    "\n",
    "x = 5\n",
    "while x > 0:\n",
    "  print(x)\n",
    "  x -= 1\n",
    "else:\n",
    "  print(\"반복 종료\")"
   ]
  },
  {
   "cell_type": "code",
   "execution_count": 33,
   "metadata": {},
   "outputs": [
    {
     "name": "stdout",
     "output_type": "stream",
     "text": [
      "1\n",
      "3\n",
      "5\n",
      "7\n"
     ]
    }
   ],
   "source": [
    "#break & continue 사용\n",
    "#continue : continue 아래의 코드는 실행되지 않고, 반복문의 조건 검사로 다시 돌아감\n",
    "#break : break를 만나면 반복문을 벗어나게 되고 반복문 종료\n",
    "n = 0\n",
    "while n < 10:\n",
    "  n += 1\n",
    "  if n % 2 == 0:\n",
    "    continue\n",
    "  print(n)\n",
    "  if n == 7:\n",
    "    break"
   ]
  },
  {
   "cell_type": "code",
   "execution_count": null,
   "metadata": {},
   "outputs": [],
   "source": []
  }
 ],
 "metadata": {
  "kernelspec": {
   "display_name": ".venv",
   "language": "python",
   "name": "python3"
  },
  "language_info": {
   "codemirror_mode": {
    "name": "ipython",
    "version": 3
   },
   "file_extension": ".py",
   "mimetype": "text/x-python",
   "name": "python",
   "nbconvert_exporter": "python",
   "pygments_lexer": "ipython3",
   "version": "3.12.8"
  }
 },
 "nbformat": 4,
 "nbformat_minor": 2
}
