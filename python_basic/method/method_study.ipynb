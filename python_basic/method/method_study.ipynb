{
 "cells": [
  {
   "cell_type": "markdown",
   "metadata": {},
   "source": [
    "메서드"
   ]
  },
  {
   "cell_type": "code",
   "execution_count": null,
   "metadata": {},
   "outputs": [],
   "source": [
    "# 메서드(Method)는 특정 객체에 속하는 함수로, 해당 객체의 데이터를 조작하거나 동작을 수행하는데 사용됨\n",
    "# 클래스 내부에 정의되며, 객체와 연관되어 호출됨, 일반적으로 메서드는 첫번째 매개변수로 객체 자체인 self를 받음\n",
    "\n",
    "# 특징\n",
    "\n",
    "# 메서드는 특정 객체에 속해 있으며, 그 객체의 속성에 접근하거나 동작을 정의\n",
    "# 모든 인스턴스 메서드는 첫번째 매개변수로 객체 자신을 전달받음\n",
    "# 여러 객체에서 공통적으로 사용되는 동작을 정의하고 재사용 할 수 있음\n",
    "\n",
    "# 메서드 vs 함수\n",
    "# 메서드\n",
    "# 정의 위치 : 클래스 내부에 정의\n",
    "# 호출 방식 : 특정 객체나 클래스를 통해 호출(obj.method() 또는 Class.method())\n",
    "# 첫번째 매개변수 : self(인스턴스 메서드) 또는 cls(클래스 메서드)\n",
    "# 소속 : 객체나 클래스에 소속\n",
    "# 예시 : str.upper(), list.append(), 사용자 정의 메서드\n",
    "\n",
    "# 함수\n",
    "# 정의 위치 : 클래스 내부나 독립적으로 정의\n",
    "# 호출 방식 : 독립적으로 호출(function())\n",
    "# 첫번째 매개변수 : 추가 매개변수를 요구하지 않음\n",
    "# 소속 : 특정 객체/클래스에 종속되지 않음\n",
    "# 예시 : len(), print(), 사용자 정의 함수"
   ]
  },
  {
   "cell_type": "markdown",
   "metadata": {},
   "source": [
    "List Method"
   ]
  },
  {
   "cell_type": "code",
   "execution_count": 1,
   "metadata": {},
   "outputs": [
    {
     "name": "stdout",
     "output_type": "stream",
     "text": [
      "['apple', 'banana', 'cherry']\n"
     ]
    }
   ],
   "source": [
    "# append\n",
    "# 리스트의 끝에 요소를 추가\n",
    "fruits = [\"apple\", \"banana\"]\n",
    "fruits.append(\"cherry\")\n",
    "print(fruits)"
   ]
  },
  {
   "cell_type": "code",
   "execution_count": 2,
   "metadata": {},
   "outputs": [
    {
     "name": "stdout",
     "output_type": "stream",
     "text": [
      "['apple', 'banana', 'cherry', 'date']\n"
     ]
    }
   ],
   "source": [
    "# extend\n",
    "# 리스트에 다른 리스트나 반복 가능한 객체의 모든 요소를 추가\n",
    "fruits = [\"apple\", \"banana\"]\n",
    "fruits.extend([\"cherry\", \"date\"])\n",
    "print(fruits)"
   ]
  },
  {
   "cell_type": "code",
   "execution_count": 3,
   "metadata": {},
   "outputs": [
    {
     "name": "stdout",
     "output_type": "stream",
     "text": [
      "['apple', 'cherry', 'banana']\n"
     ]
    }
   ],
   "source": [
    "# insert\n",
    "# 지정한 위치에 요소를 삽입\n",
    "fruits = [\"apple\", \"banana\"]\n",
    "fruits.insert(1, \"cherry\")\n",
    "print(fruits)"
   ]
  },
  {
   "cell_type": "code",
   "execution_count": 6,
   "metadata": {},
   "outputs": [
    {
     "name": "stdout",
     "output_type": "stream",
     "text": [
      "['apple', 'cherry']\n"
     ]
    }
   ],
   "source": [
    "# remove\n",
    "# 첫번째로 나타나는 특정 요소를 삭제\n",
    "fruits = [\"apple\", \"banana\", \"cherry\"]\n",
    "fruits.remove(\"banana\")\n",
    "print(fruits)"
   ]
  },
  {
   "cell_type": "code",
   "execution_count": 7,
   "metadata": {},
   "outputs": [
    {
     "name": "stdout",
     "output_type": "stream",
     "text": [
      "cherry\n",
      "['apple', 'banana']\n"
     ]
    }
   ],
   "source": [
    "# pop\n",
    "# 특정 인덱스의 요소를 삭제하고 반환, 인덱스를 생략하면 마지막 요소를 제거\n",
    "fruits = [\"apple\", \"banana\", \"cherry\"]\n",
    "last_item = fruits.pop()\n",
    "print(last_item)\n",
    "print(fruits)"
   ]
  },
  {
   "cell_type": "code",
   "execution_count": 10,
   "metadata": {},
   "outputs": [
    {
     "name": "stdout",
     "output_type": "stream",
     "text": [
      "[1, 1, 3, 4, 5]\n",
      "[5, 4, 3, 1, 1]\n"
     ]
    }
   ],
   "source": [
    "# sort\n",
    "# 리스트를 오름차순으로 정렬(기본값). reverse = True를 설정하면 내림차순 정렬\n",
    "numbers = [3, 1, 4, 1, 5]\n",
    "numbers.sort()\n",
    "print(numbers)\n",
    "numbers.sort(reverse=True)\n",
    "print(numbers)"
   ]
  },
  {
   "cell_type": "code",
   "execution_count": 11,
   "metadata": {},
   "outputs": [
    {
     "name": "stdout",
     "output_type": "stream",
     "text": [
      "[3, 2, 1]\n"
     ]
    }
   ],
   "source": [
    "# reverse\n",
    "# 리스트의 순서를 반대로 변경\n",
    "numbers = [1, 2, 3]\n",
    "numbers.reverse()\n",
    "print(numbers)"
   ]
  },
  {
   "cell_type": "code",
   "execution_count": 14,
   "metadata": {},
   "outputs": [
    {
     "name": "stdout",
     "output_type": "stream",
     "text": [
      "2\n"
     ]
    }
   ],
   "source": [
    "# count\n",
    "# 리스트에서 특정 요소의 개수를 반환\n",
    "numbers = [1, 2, 3, 1]\n",
    "print(numbers.count(1))"
   ]
  },
  {
   "cell_type": "code",
   "execution_count": 13,
   "metadata": {},
   "outputs": [
    {
     "name": "stdout",
     "output_type": "stream",
     "text": [
      "1\n"
     ]
    }
   ],
   "source": [
    "# index\n",
    "# 특정 요소의 인덱스를 반환\n",
    "fruits = [\"apple\", \"banana\", \"cherry\"]\n",
    "print(fruits.index(\"banana\"))"
   ]
  },
  {
   "cell_type": "markdown",
   "metadata": {},
   "source": [
    "String Method"
   ]
  },
  {
   "cell_type": "code",
   "execution_count": 15,
   "metadata": {},
   "outputs": [
    {
     "name": "stdout",
     "output_type": "stream",
     "text": [
      "hello world\n"
     ]
    }
   ],
   "source": [
    "# lower\n",
    "# 문자열을 소문자로 변환\n",
    "text = \"Hello World\"\n",
    "print(text.lower())"
   ]
  },
  {
   "cell_type": "code",
   "execution_count": 16,
   "metadata": {},
   "outputs": [
    {
     "name": "stdout",
     "output_type": "stream",
     "text": [
      "HELLO WORLD\n"
     ]
    }
   ],
   "source": [
    "# upper\n",
    "# 문자열을 대문자로 변환\n",
    "text = \"Hello World\"\n",
    "print(text.upper())"
   ]
  },
  {
   "cell_type": "code",
   "execution_count": 17,
   "metadata": {},
   "outputs": [
    {
     "name": "stdout",
     "output_type": "stream",
     "text": [
      "Hello World\n"
     ]
    }
   ],
   "source": [
    "# strip\n",
    "# 양쪽 끝의 공백 또는 특정문자 제거\n",
    "text = \"  Hello World  \"\n",
    "print(text.strip())"
   ]
  },
  {
   "cell_type": "code",
   "execution_count": 18,
   "metadata": {},
   "outputs": [
    {
     "name": "stdout",
     "output_type": "stream",
     "text": [
      "bonono\n"
     ]
    }
   ],
   "source": [
    "# replace\n",
    "# 특정 문자열을 다른 문자열로 치환\n",
    "text = \"banana\"\n",
    "print(text.replace(\"a\", \"o\"))"
   ]
  },
  {
   "cell_type": "code",
   "execution_count": 21,
   "metadata": {},
   "outputs": [
    {
     "name": "stdout",
     "output_type": "stream",
     "text": [
      "['apple', 'banana', 'cherry']\n"
     ]
    }
   ],
   "source": [
    "# split\n",
    "# 문자열을 구분자를 기준으로 분리하여 리스트로 반환\n",
    "text = \"apple, banana, cherry\"\n",
    "print(text.split(\", \"))"
   ]
  },
  {
   "cell_type": "code",
   "execution_count": 25,
   "metadata": {},
   "outputs": [
    {
     "name": "stdout",
     "output_type": "stream",
     "text": [
      "apple, banana, cherry\n"
     ]
    }
   ],
   "source": [
    "# join\n",
    "# 리스트나 튜플의 요소를 문자열로 결합\n",
    "fruits = [\"apple\", \"banana\", \"cherry\"]\n",
    "print(\", \".join(fruits))"
   ]
  },
  {
   "cell_type": "code",
   "execution_count": 26,
   "metadata": {},
   "outputs": [
    {
     "name": "stdout",
     "output_type": "stream",
     "text": [
      "6\n"
     ]
    }
   ],
   "source": [
    "# find\n",
    "# 부분 문자열의 첫 번째 위치를 반환\n",
    "text = \"Hello World\"\n",
    "print(text.find(\"World\"))"
   ]
  },
  {
   "cell_type": "code",
   "execution_count": 28,
   "metadata": {},
   "outputs": [
    {
     "name": "stdout",
     "output_type": "stream",
     "text": [
      "True\n",
      "True\n"
     ]
    }
   ],
   "source": [
    "# startswith/endswith\n",
    "# 문자열이 특정 접두사/접미사로 시작하거나 끝나는지 확인\n",
    "text = \"Hello World\"\n",
    "print(text.startswith(\"Hello\"))\n",
    "print(text.endswith(\"World\"))"
   ]
  },
  {
   "cell_type": "code",
   "execution_count": 29,
   "metadata": {},
   "outputs": [
    {
     "name": "stdout",
     "output_type": "stream",
     "text": [
      "True\n"
     ]
    }
   ],
   "source": [
    "# isnumeric\n",
    "# 문자열이 숫자로만 구정되어 있는 지 확인\n",
    "text = \"12345\"\n",
    "print(text.isnumeric())"
   ]
  },
  {
   "cell_type": "code",
   "execution_count": 31,
   "metadata": {},
   "outputs": [
    {
     "name": "stdout",
     "output_type": "stream",
     "text": [
      "Hello world\n"
     ]
    }
   ],
   "source": [
    "# capitalize\n",
    "# 첫 번째 문자를 대문자로, 나머지는 소문자로 변환\n",
    "text = \"hello World\"\n",
    "print(text.capitalize())"
   ]
  }
 ],
 "metadata": {
  "kernelspec": {
   "display_name": ".venv",
   "language": "python",
   "name": "python3"
  },
  "language_info": {
   "codemirror_mode": {
    "name": "ipython",
    "version": 3
   },
   "file_extension": ".py",
   "mimetype": "text/x-python",
   "name": "python",
   "nbconvert_exporter": "python",
   "pygments_lexer": "ipython3",
   "version": "3.12.8"
  }
 },
 "nbformat": 4,
 "nbformat_minor": 2
}
