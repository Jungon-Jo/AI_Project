{
 "cells": [
  {
   "cell_type": "markdown",
   "metadata": {},
   "source": [
    "**문제 1 : 람다 함수와 filter 활용**\n",
    "\n",
    "리스트 [3, 10, 7, 20, 15]에서 10 이상인 숫자만 필터링하여 새로운 리스트로 만드세요."
   ]
  },
  {
   "cell_type": "code",
   "execution_count": 7,
   "metadata": {},
   "outputs": [
    {
     "name": "stdout",
     "output_type": "stream",
     "text": [
      "[10, 20, 15]\n"
     ]
    }
   ],
   "source": [
    "# 내장함수 명으로 함수를 생성 할 경우, 기존 내장함수가 덮어씌워 짐으로 주의해야한다. 이때 되돌리는 방법은 builtins를 import 하고 filter라는 함수를 재정의 해주어야 한다.\n",
    "# 코드 : filter[함수] = builtins.filter\n",
    "import builtins\n",
    "filter = builtins.filter\n",
    "numbers = [3, 10, 7, 20, 15]\n",
    "# def filter(list):\n",
    "#   filtered_numbers = []\n",
    "#   for i in list:\n",
    "#     if i >= 10:\n",
    "#       return filtered_numbers.append(i)\n",
    "# print(filter(numbers))\n",
    "result = list(filter(lambda x: x >= 10, numbers))\n",
    "print(result)"
   ]
  },
  {
   "cell_type": "markdown",
   "metadata": {},
   "source": [
    "**문제 2 : 내장 함수와 문자열 메서드**\n",
    "\n",
    "주어진 문자열 \"Hello World! Programming is fun.\"에서 대문자와 소문자의 개수를 각각 출력하세요."
   ]
  },
  {
   "cell_type": "code",
   "execution_count": 12,
   "metadata": {},
   "outputs": [
    {
     "name": "stdout",
     "output_type": "stream",
     "text": [
      "대문자 : 3, 소문자 : 23\n"
     ]
    }
   ],
   "source": [
    "text = \"Hello World! Programming is fun\"\n",
    "count_lower = 0\n",
    "count_upper = 0\n",
    "for i in text:\n",
    "  if i.islower():\n",
    "    count_lower += 1\n",
    "  elif i.isupper():\n",
    "    count_upper += 1\n",
    "print(f\"대문자 : {count_upper}, 소문자 : {count_lower}\")"
   ]
  },
  {
   "cell_type": "markdown",
   "metadata": {},
   "source": [
    "**문제 3 : 리스트 컴프리헨션과 if문**\n",
    "\n",
    "리스트 [4, 9, 16, 25, 36]에서 홀수인 숫자의 제곱근만 출력하세요."
   ]
  },
  {
   "cell_type": "code",
   "execution_count": null,
   "metadata": {},
   "outputs": [],
   "source": [
    "numbers = [4, 9, 16, 25, 36]\n",
    "for i in numbers:"
   ]
  },
  {
   "cell_type": "markdown",
   "metadata": {},
   "source": [
    "**문제 4 : 문자열 메서드와 람다 함수**\n",
    "\n",
    "문자열 \"apple, banana, cherry\"에서 각 단어의 첫 글자를 대문자로 변경하세요."
   ]
  },
  {
   "cell_type": "markdown",
   "metadata": {},
   "source": [
    "**문제 5 : 리스트 메서드와 for문**\n",
    "\n",
    "리스트 [1, 2, 3, 4, 5]의 요소를 역순으로 저장한 새 리스트를 만드세요."
   ]
  },
  {
   "cell_type": "markdown",
   "metadata": {},
   "source": [
    "**문제 6 : zip과 람다 함수**\n",
    "\n",
    "두 리스트 [1, 2, 3]과 [10, 20, 30]의 요소를 곱한 결과를 리스트로 만드세요."
   ]
  },
  {
   "cell_type": "markdown",
   "metadata": {},
   "source": [
    "**문제 7 : 문자열 메서드와 if문**\n",
    "\n",
    "문자열 \"Python is amazing\"에서 단어가 \"is\"인 경우만 대문자로 변경하세요."
   ]
  },
  {
   "cell_type": "markdown",
   "metadata": {},
   "source": [
    "**문제 8 : any와 문자열 메서드**\n",
    "\n",
    "리스트 [\"apple\", \"banana\", \"cherry\", \"kiwi\"]에서 문자열에 \"a\"가 포함된 단어가 있는지 확인하세요."
   ]
  },
  {
   "cell_type": "markdown",
   "metadata": {},
   "source": [
    "**문제 9 : for문과 리스트 메서드**\n",
    "\n",
    "리스트 [5, 2, 8, 1, 3]에서 짝수를 모두 제거한 후 나머지 요소를 오름차순으로 정렬하세요."
   ]
  },
  {
   "cell_type": "markdown",
   "metadata": {},
   "source": [
    "**문제 10 : map과 문자열 메서드**\n",
    "\n",
    "리스트 [\" hello \", \" world \", \" python \"]에서 각 문자열의 앞뒤 공백을 제거하고 대문자로 변환하세요."
   ]
  }
 ],
 "metadata": {
  "kernelspec": {
   "display_name": ".venv",
   "language": "python",
   "name": "python3"
  },
  "language_info": {
   "codemirror_mode": {
    "name": "ipython",
    "version": 3
   },
   "file_extension": ".py",
   "mimetype": "text/x-python",
   "name": "python",
   "nbconvert_exporter": "python",
   "pygments_lexer": "ipython3",
   "version": "3.12.8"
  }
 },
 "nbformat": 4,
 "nbformat_minor": 2
}
