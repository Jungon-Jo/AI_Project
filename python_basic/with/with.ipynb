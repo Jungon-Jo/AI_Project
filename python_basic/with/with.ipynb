{
 "cells": [
  {
   "cell_type": "markdown",
   "metadata": {},
   "source": [
    "With"
   ]
  },
  {
   "cell_type": "code",
   "execution_count": null,
   "metadata": {},
   "outputs": [],
   "source": [
    "# 컨텍스트 메니저를 사용하는 코드 블록을 간편하게 관리하기 위해 제공하는 Python문법\n",
    "# 주로 파일 입출력, 리소스 관리, 데이터베이스 연결 등에 사용\n",
    "\n",
    "# 특징\n",
    "# 자동자원 관리 : with문 블록이 끝나면 파일이나 리소스가 자동으로 닫힘(__exit__메서드 호출)\n",
    "# 예외 처리 간소화 : with문 내부에서 예외가 발생해도 리소스 정리(close(), release())가 보장됨\n",
    "# 코드 간결화 : 명시적으로 try-finally를 사용하지 않아도 되므로 코드가 더 깔끔해짐\n",
    "\n",
    "# 컨텍스트 메니저\n",
    "# 컨텍스트 메니저(Context Manager)는 특정작업의 시작과 종료를 관리하는 도우미\n",
    "# with문에서 자동으로 동작\n",
    "# Python에서 with문과 함께 사용되며, 리소스 관리를 더 쉽고 안전하게 처리하도록 지원\n",
    "# 예를 들어 파일을 열면 작업이 끝난 후 자동으로 파일을 닫아주고, 데이터베이스 연결을 열었다면 작업 후 자동으로 연결을 종료"
   ]
  },
  {
   "cell_type": "markdown",
   "metadata": {},
   "source": [
    "With 함수 예시"
   ]
  },
  {
   "cell_type": "code",
   "execution_count": null,
   "metadata": {},
   "outputs": [],
   "source": [
    "# 방식 비교\n",
    "# with문 방식이 더 안전하고 가독성이 좋아 실수 가능성을 줄일 수 있음\n",
    "# 파일이나 리소스를 다룰 때는 가능하면 with문을 사용하는 것을 권장"
   ]
  },
  {
   "cell_type": "code",
   "execution_count": 1,
   "metadata": {},
   "outputs": [
    {
     "name": "stdout",
     "output_type": "stream",
     "text": [
      "안녕하세요 반갑습니다. 조준곤 입니다.\n",
      "\n",
      "\n",
      "파이썬 with문 예시 입니다.\n",
      "\n",
      "\n",
      "\n"
     ]
    }
   ],
   "source": [
    "# 기존 방식\n",
    "file = open(\"../dataset/human.txt\", \"r\")\n",
    "try:\n",
    "  print(file.read())\n",
    "finally:\n",
    "  file.close()"
   ]
  },
  {
   "cell_type": "code",
   "execution_count": 5,
   "metadata": {},
   "outputs": [
    {
     "name": "stdout",
     "output_type": "stream",
     "text": [
      "안녕하세요 반갑습니다. 조준곤 입니다.\n",
      "\n",
      "\n",
      "파이썬 with문 예시 입니다.\n",
      "\n",
      "\n",
      "당신은 누구십니까?\n",
      "\n",
      "\n",
      "몰라도 돼요.\n"
     ]
    }
   ],
   "source": [
    "# with문 방식\n",
    "with open(\"../dataset/human.txt\", \"r\") as file:\n",
    "  print(file.read())"
   ]
  },
  {
   "cell_type": "markdown",
   "metadata": {},
   "source": [
    "Read & Write"
   ]
  },
  {
   "cell_type": "code",
   "execution_count": 6,
   "metadata": {},
   "outputs": [
    {
     "name": "stdout",
     "output_type": "stream",
     "text": [
      "안녕하세요 반갑습니다. 조준곤 입니다.\n",
      "\n",
      "\n",
      "파이썬 with문 예시 입니다.\n",
      "\n",
      "\n",
      "\n"
     ]
    }
   ],
   "source": [
    "with open(\"../dataset/human.txt\", \"w\") as f:\n",
    "  f.write(\"안녕하세요 반갑습니다. 조준곤 입니다.\\n\\n\\n\")\n",
    "  f.write(\"파이썬 with문 예시 입니다.\\n\\n\\n\")\n",
    "\n",
    "with open(\"../dataset/human.txt\", \"r\") as file:\n",
    "    print(file.read())\n",
    "  # \"w\"는 텍스트 작성(기존 데이터 삭제 후 작성)"
   ]
  },
  {
   "cell_type": "code",
   "execution_count": 3,
   "metadata": {},
   "outputs": [
    {
     "name": "stdout",
     "output_type": "stream",
     "text": [
      "안녕하세요 반갑습니다. 조준곤 입니다.\n",
      "\n",
      "\n",
      "파이썬 with문 예시 입니다.\n",
      "\n",
      "\n",
      "당신은 누구십니까?\n",
      "\n",
      "\n",
      "몰라도 돼요.\n"
     ]
    }
   ],
   "source": [
    "with open(\"../dataset/human.txt\", \"a\") as f:\n",
    "  f.write(\"당신은 누구십니까?\\n\\n\\n\")\n",
    "  f.write(\"몰라도 돼요.\")\n",
    "  \n",
    "with open(\"../dataset/human.txt\", \"r\") as file:\n",
    "  print(file.read())\n",
    "  # \"a\"는 텍스트 추가를 의미"
   ]
  }
 ],
 "metadata": {
  "kernelspec": {
   "display_name": ".venv",
   "language": "python",
   "name": "python3"
  },
  "language_info": {
   "codemirror_mode": {
    "name": "ipython",
    "version": 3
   },
   "file_extension": ".py",
   "mimetype": "text/x-python",
   "name": "python",
   "nbconvert_exporter": "python",
   "pygments_lexer": "ipython3",
   "version": "3.12.8"
  }
 },
 "nbformat": 4,
 "nbformat_minor": 2
}
