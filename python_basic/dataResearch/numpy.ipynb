{
 "cells": [
  {
   "cell_type": "markdown",
   "metadata": {},
   "source": [
    "Numpy"
   ]
  },
  {
   "cell_type": "code",
   "execution_count": 6,
   "metadata": {},
   "outputs": [],
   "source": [
    "# numpy는 파이썬에서 과학 계산을 위한 필수 라이브러리\n",
    "# 대규모 다차원 배열과 행렬 연산을 효율적으로 처리하는 기능을 제공하여 데이터 분석에 널리 사용\n",
    "\n",
    "# 특징\n",
    "# 1. 벡터화 연산 : 모델의 성능을 수치로 표현하여 객관적으로 비교 가능\n",
    "# 2. 다양한 수학 함수 : 삼각 함수, 지수 함수, 통계 함수 등 다양한 수학 함수를 제공\n",
    "# 3. 배열 생성 및 조작 : 다양한 방법으로 배열을 생성하고, shape을 변경하거나 원한느 요소를 추출\n",
    "# 4. 선형대수 연산 : 행렬 곱, 역행렬, 고유값 분해 등 선형대수 연산을 지원"
   ]
  },
  {
   "cell_type": "markdown",
   "metadata": {},
   "source": [
    "Numpy 함수 예시"
   ]
  },
  {
   "cell_type": "code",
   "execution_count": 7,
   "metadata": {},
   "outputs": [
    {
     "name": "stdout",
     "output_type": "stream",
     "text": [
      "[1 2 3]\n"
     ]
    }
   ],
   "source": [
    "# np.array()\n",
    "# 리스트를 Numpy 배열로 변환\n",
    "import numpy as np\n",
    "arr = np.array([1, 2, 3])\n",
    "print(arr)"
   ]
  },
  {
   "cell_type": "code",
   "execution_count": 8,
   "metadata": {},
   "outputs": [
    {
     "name": "stdout",
     "output_type": "stream",
     "text": [
      "[0 2 4 6 8]\n"
     ]
    }
   ],
   "source": [
    "# np.arange()\n",
    "# 주어진 범위 내에서 일정한 간격의 값을 가지는 배열 생성\n",
    "# arange(시작값, 종료값, 간격) / 종료값 제외\n",
    "arr = np.arange(0, 10, 2)\n",
    "print(arr)"
   ]
  },
  {
   "cell_type": "code",
   "execution_count": 9,
   "metadata": {},
   "outputs": [
    {
     "name": "stdout",
     "output_type": "stream",
     "text": [
      "[[0.06464383 0.76566532 0.4780529  0.75044247]\n",
      " [0.9105063  0.68257671 0.59088434 0.77917877]]\n"
     ]
    }
   ],
   "source": [
    "# np.random.rand()\n",
    "# 0과 1사이의 균일 분포를 따르는 난수 생성\n",
    "# random : 난수 생성\n",
    "# rand : 0 ~ 1 난수\n",
    "arr = np.random.rand(2, 4) # 요소가 4개인 리스트 2개를 생성\n",
    "print(arr)"
   ]
  },
  {
   "cell_type": "code",
   "execution_count": 12,
   "metadata": {},
   "outputs": [
    {
     "ename": "ValueError",
     "evalue": "cannot reshape array of size 8 into shape (1,9)",
     "output_type": "error",
     "traceback": [
      "\u001b[1;31m---------------------------------------------------------------------------\u001b[0m",
      "\u001b[1;31mValueError\u001b[0m                                Traceback (most recent call last)",
      "Cell \u001b[1;32mIn[12], line 3\u001b[0m\n\u001b[0;32m      1\u001b[0m \u001b[38;5;66;03m# np.reshape\u001b[39;00m\n\u001b[0;32m      2\u001b[0m \u001b[38;5;66;03m# 배열의 shape 변경\u001b[39;00m\n\u001b[1;32m----> 3\u001b[0m arr \u001b[38;5;241m=\u001b[39m \u001b[43marr\u001b[49m\u001b[38;5;241;43m.\u001b[39;49m\u001b[43mreshape\u001b[49m\u001b[43m(\u001b[49m\u001b[38;5;241;43m1\u001b[39;49m\u001b[43m,\u001b[49m\u001b[43m \u001b[49m\u001b[38;5;241;43m9\u001b[39;49m\u001b[43m)\u001b[49m\n\u001b[0;32m      4\u001b[0m \u001b[38;5;28mprint\u001b[39m(arr)\n",
      "\u001b[1;31mValueError\u001b[0m: cannot reshape array of size 8 into shape (1,9)"
     ]
    }
   ],
   "source": [
    "# np.reshape\n",
    "# 배열의 shape 변경\n",
    "arr = arr.reshape(1, 9)\n",
    "print(arr)"
   ]
  },
  {
   "cell_type": "code",
   "execution_count": 11,
   "metadata": {},
   "outputs": [
    {
     "name": "stdout",
     "output_type": "stream",
     "text": [
      "6\n"
     ]
    }
   ],
   "source": [
    "# np.sum()\n",
    "# 배열 요소의 합\n",
    "sum = np.sum([1, 2, 3])\n",
    "print(sum)\n"
   ]
  },
  {
   "cell_type": "code",
   "execution_count": 17,
   "metadata": {},
   "outputs": [
    {
     "name": "stdout",
     "output_type": "stream",
     "text": [
      "2.0\n"
     ]
    }
   ],
   "source": [
    "# np.mean\n",
    "# 배열 요소의 평균\n",
    "mean = np.mean([1, 2, 3])\n",
    "print(mean)"
   ]
  },
  {
   "cell_type": "code",
   "execution_count": 18,
   "metadata": {},
   "outputs": [
    {
     "name": "stdout",
     "output_type": "stream",
     "text": [
      "0.816496580927726\n"
     ]
    }
   ],
   "source": [
    "# np.std()\n",
    "# 배열 요소의 표준편차 계산\n",
    "std = np.std([1, 2, 3])\n",
    "print(std)"
   ]
  }
 ],
 "metadata": {
  "kernelspec": {
   "display_name": ".venv",
   "language": "python",
   "name": "python3"
  },
  "language_info": {
   "codemirror_mode": {
    "name": "ipython",
    "version": 3
   },
   "file_extension": ".py",
   "mimetype": "text/x-python",
   "name": "python",
   "nbconvert_exporter": "python",
   "pygments_lexer": "ipython3",
   "version": "3.10.6"
  }
 },
 "nbformat": 4,
 "nbformat_minor": 2
}
