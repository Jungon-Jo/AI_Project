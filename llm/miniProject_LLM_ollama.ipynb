{
 "cells": [
  {
   "cell_type": "code",
   "execution_count": null,
   "metadata": {},
   "outputs": [],
   "source": [
    "import pandas as pd\n",
    "from langchain_community.chat_models import ChatOllama\n",
    "from langchain.schema import HumanMessage, AIMessage, Document\n",
    "from langchain.embeddings import HuggingFaceEmbeddings\n",
    "from langchain.vectorstores import FAISS\n",
    "from langchain.text_splitter import CharacterTextSplitter\n",
    "from langchain.chains import ConversationalRetrievalChain\n",
    "import gradio as gr\n",
    "import tensorflow as tf\n",
    "import numpy as np\n",
    "from PIL import Image\n",
    "import requests\n",
    "from io import BytesIO\n",
    "from langchain_community.chat_models import ChatOllama"
   ]
  },
  {
   "cell_type": "code",
   "execution_count": null,
   "metadata": {},
   "outputs": [],
   "source": [
    "# Ollama 서버 설정\n",
    "OLLAMA_SERVER = \"http://localhost:11434\"\n",
    "MODEL_NAME = \"gemma2\"\n",
    "llm = ChatOllama(model=MODEL_NAME, base_url=OLLAMA_SERVER, temperature=0.1)"
   ]
  },
  {
   "cell_type": "code",
   "execution_count": null,
   "metadata": {},
   "outputs": [],
   "source": [
    "# ConversationalRetrievalChain 설정\n",
    "qa_chain = ConversationalRetrievalChain.from_llm(\n",
    "    llm,\n",
    "    vectorstore.as_retriever(search_kwargs={\"k\": 1}),\n",
    "    return_source_documents=True,\n",
    "    verbose=False\n",
    ")"
   ]
  },
  {
   "cell_type": "code",
   "execution_count": null,
   "metadata": {},
   "outputs": [],
   "source": [
    "# TensorFlow MobileNetV2 모델 로드\n",
    "model = tf.keras.applications.MobileNetV2(weights=\"imagenet\")"
   ]
  },
  {
   "cell_type": "code",
   "execution_count": null,
   "metadata": {},
   "outputs": [],
   "source": [
    "# 음식 정보 추출 함수 (재료, 영양성분)\n",
    "def get_food_info_from_vectorstore(food_name, vectorstore):\n",
    "    try:\n",
    "        # food_name을 쿼리로 변환\n",
    "        query = f\"Tell me about {food_name}\"\n",
    "\n",
    "        # 쿼리를 벡터화\n",
    "        query_vector = vectorstore.embeddings.embed_query(query)\n",
    "\n",
    "        # FAISS에서 검색\n",
    "        D, I = vectorstore.index.search(np.array([query_vector]).astype('float32'), 1)  # 상위 1개 검색\n",
    "\n",
    "        # 가장 유사한 음식 정보 가져오기\n",
    "        if I[0][0] != -1:  # 유효한 결과가 있을 경우\n",
    "            # vectorstore에 있는 음식 정보 가져오기 (food_name을 통해)\n",
    "            matched_food = vectorstore.docs[I[0][0]]\n",
    "            return matched_food\n",
    "        else:\n",
    "            return {\"error\": \"음식 정보를 찾을 수 없습니다.\"}\n",
    "    except Exception as e:\n",
    "        return {\"error\": f\"Error: {e}\"}"
   ]
  },
  {
   "cell_type": "code",
   "execution_count": null,
   "metadata": {},
   "outputs": [],
   "source": [
    "# Ollama를 사용해 음식 설명 생성\n",
    "def get_food_description_with_langchain(food_name):\n",
    "    \"\"\"\n",
    "    LangChain ChatOllama를 사용하여 음식 설명 생성\n",
    "    \"\"\"\n",
    "    try:\n",
    "        response = llm([HumanMessage(content=f\"Tell me about {food_name}.\")])\n",
    "        if isinstance(response, AIMessage):\n",
    "            return response.content\n",
    "        return f\"Unexpected response: {response}\"\n",
    "    except Exception as e:\n",
    "        return f\"Failed to retrieve description: {e}\""
   ]
  },
  {
   "cell_type": "code",
   "execution_count": null,
   "metadata": {},
   "outputs": [],
   "source": [
    "# 음식 재료와 영양 정보 찾기\n",
    "def get_food_nutrition_and_ingredient(predicted_ingredient):\n",
    "    # Step 1: 영양소 정보 가져오기\n",
    "    matching_nutrition_row = concatenated_food_nutrition[concatenated_food_nutrition['food'] == predicted_ingredient]\n",
    "    \n",
    "    if not matching_nutrition_row.empty:\n",
    "        nutrition_info = matching_nutrition_row.iloc[0].to_dict()  # 첫 번째 행을 딕셔너리로 변환\n",
    "    else:\n",
    "        nutrition_info = {\"error\": \"No matching food found in nutrition data\"}\n",
    "    \n",
    "    # Step 2: 재료 정보 가져오기\n",
    "    matching_ingredient_row = food_ingredient[food_ingredient['Title'] == predicted_ingredient]\n",
    "    \n",
    "    if not matching_ingredient_row.empty:\n",
    "        ingredient_info = matching_ingredient_row.iloc[0].to_dict()  # 첫 번째 행을 딕셔너리로 변환\n",
    "    else:\n",
    "        ingredient_info = {\"error\": \"No matching ingredient found\"}\n",
    "    \n",
    "    return nutrition_info, ingredient_info\n"
   ]
  },
  {
   "cell_type": "code",
   "execution_count": null,
   "metadata": {},
   "outputs": [],
   "source": [
    "def filter_dataframes_by_food_name(food_name, concatenated_food_nutrition, food_ingredient):\n",
    "    \"\"\"\n",
    "    특정 food_name이 포함된 데이터를 각 데이터프레임에서 필터링하고,\n",
    "    Unnamed로 시작하는 컬럼은 제외합니다.\n",
    "    \"\"\"\n",
    "    # \"Unnamed\" 컬럼 제거\n",
    "    nutrition_filtered = concatenated_food_nutrition.loc[\n",
    "        concatenated_food_nutrition[\"food\"].str.contains(food_name, case=False, na=False)\n",
    "    ]\n",
    "    nutrition_filtered = nutrition_filtered.loc[:, ~nutrition_filtered.columns.str.startswith(\"Unnamed\")]\n",
    "\n",
    "    ingredient_filtered = food_ingredient.loc[\n",
    "        food_ingredient[\"Title\"].str.contains(food_name, case=False, na=False)\n",
    "    ]\n",
    "    ingredient_filtered = ingredient_filtered.loc[:, ~ingredient_filtered.columns.str.startswith(\"Unnamed\")]\n",
    "\n",
    "    return nutrition_filtered, ingredient_filtered"
   ]
  },
  {
   "cell_type": "code",
   "execution_count": null,
   "metadata": {},
   "outputs": [],
   "source": [
    "# 빈 데이터 프레임 대체 문구\n",
    "def handle_empty_dataframe(df, no_info_message=\"No info\"):\n",
    "    \"\"\"\n",
    "    빈 데이터프레임을 no_info_message로 채워진 데이터프레임으로 변환\n",
    "    \"\"\"\n",
    "    if df.empty:\n",
    "        columns = [\"Column1\"] if df.columns.empty else df.columns  # 기본 컬럼 이름 생성\n",
    "        return pd.DataFrame({col: [no_info_message] for col in columns})\n",
    "    return df"
   ]
  },
  {
   "cell_type": "code",
   "execution_count": null,
   "metadata": {},
   "outputs": [],
   "source": [
    "# 이미지 예측 함수\n",
    "\n",
    "def predict_image_with_description(image_url):\n",
    "    \"\"\"\n",
    "    이미지 URL을 받아 음식 예측과 Ollama 설명, 데이터 필터링 결과를 반환\n",
    "    \"\"\"\n",
    "    try:\n",
    "        # 이미지 처리\n",
    "        response = requests.get(image_url)\n",
    "        image = Image.open(BytesIO(response.content)).resize((224, 224))\n",
    "\n",
    "        image_array = tf.keras.preprocessing.image.img_to_array(image)\n",
    "        image_array = tf.expand_dims(image_array, axis=0)\n",
    "        image_array = tf.keras.applications.mobilenet_v2.preprocess_input(image_array)\n",
    "\n",
    "        # 이미지 예측\n",
    "        predictions = model.predict(image_array)\n",
    "        decoded_predictions = tf.keras.applications.mobilenet_v2.decode_predictions(predictions, top=3)[0]\n",
    "        result = {label: float(prob) for (_, label, prob) in decoded_predictions}\n",
    "\n",
    "        # 가장 높은 확률의 예측값\n",
    "        top_food = decoded_predictions[0][1]\n",
    "\n",
    "        # Ollama 설명 생성\n",
    "        description = get_food_description_with_langchain(top_food)\n",
    "\n",
    "        # 데이터프레임 필터링\n",
    "        nutrition_filtered, ingredient_filtered = filter_dataframes_by_food_name(\n",
    "            top_food, concatenated_food_nutrition, food_ingredient\n",
    "        )\n",
    "\n",
    "        # 빈 데이터프레임 처리 (영양 정보와 재료 정보에 각각 처리)\n",
    "        nutrition_output = handle_empty_dataframe(nutrition_filtered)\n",
    "        ingredient_output = handle_empty_dataframe(ingredient_filtered)\n",
    "\n",
    "        # 결과 반환 (표 형식으로 변환)\n",
    "        return result, description, nutrition_output, ingredient_output\n",
    "    \n",
    "    except Exception as e:\n",
    "        return {\"error\": 1.0}, f\"Error: {e}\", \"No info\", \"No info\""
   ]
  }
 ],
 "metadata": {
  "kernelspec": {
   "display_name": "llm",
   "language": "python",
   "name": "python3"
  },
  "language_info": {
   "name": "python",
   "version": "3.10.16"
  }
 },
 "nbformat": 4,
 "nbformat_minor": 2
}
