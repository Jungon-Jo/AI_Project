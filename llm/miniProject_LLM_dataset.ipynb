{
 "cells": [
  {
   "cell_type": "code",
   "execution_count": 1,
   "metadata": {},
   "outputs": [],
   "source": [
    "import pandas as pd\n",
    "from langchain_community.chat_models import ChatOllama\n",
    "from langchain.schema import HumanMessage, AIMessage, Document\n",
    "from langchain.embeddings import HuggingFaceEmbeddings\n",
    "from langchain.vectorstores import FAISS\n",
    "from langchain.text_splitter import CharacterTextSplitter\n",
    "from langchain.chains import ConversationalRetrievalChain\n",
    "import gradio as gr\n",
    "import tensorflow as tf\n",
    "import numpy as np\n",
    "from PIL import Image\n",
    "import requests\n",
    "from io import BytesIO\n",
    "from langchain_community.chat_models import ChatOllama"
   ]
  },
  {
   "cell_type": "code",
   "execution_count": null,
   "metadata": {},
   "outputs": [],
   "source": [
    "# CSV 파일 로드(재료 영양소)\n",
    "food_nutrition1 = pd.read_csv(\"../dataset/FINAL_FOOD_DATASET/FOOD-DATA-GROUP1.csv\", encoding='CP949')\n",
    "food_nutrition2 = pd.read_csv(\"../dataset/FINAL_FOOD_DATASET/FOOD-DATA-GROUP2.csv\", encoding='CP949')\n",
    "food_nutrition3 = pd.read_csv(\"../dataset/FINAL_FOOD_DATASET/FOOD-DATA-GROUP3.csv\", encoding='CP949')\n",
    "food_nutrition4 = pd.read_csv(\"../dataset/FINAL_FOOD_DATASET/FOOD-DATA-GROUP4.csv\", encoding='CP949')\n",
    "food_nutrition5 = pd.read_csv(\"../dataset/FINAL_FOOD_DATASET/FOOD-DATA-GROUP5.csv\", encoding='CP949')\n",
    "concatenated_food_nutrition = pd.concat([food_nutrition1, food_nutrition2, food_nutrition3, food_nutrition4, food_nutrition5], ignore_index=True)\n",
    "concatenated_food_nutrition.tail()"
   ]
  },
  {
   "cell_type": "code",
   "execution_count": null,
   "metadata": {},
   "outputs": [],
   "source": [
    "# CSV 파일 로드(음식 재료)\n",
    "food_ingredient = pd.read_csv(\"../dataset/Food_Ingredients_Dataset.csv\")\n",
    "food_ingredient.tail()"
   ]
  },
  {
   "cell_type": "code",
   "execution_count": null,
   "metadata": {},
   "outputs": [],
   "source": [
    "# 텍스트 분할\n",
    "text_splitter = CharacterTextSplitter(chunk_size=1000, chunk_overlap=200)\n",
    "texts_nutrition = text_splitter.split_text(\"\\n\".join(concatenated_food_nutrition.to_string()))\n",
    "texts_ingredient = text_splitter.split_text(\"\\n\".join(food_ingredient.to_string()))"
   ]
  },
  {
   "cell_type": "code",
   "execution_count": null,
   "metadata": {},
   "outputs": [],
   "source": [
    "# 텍스트를 Document 객체로 변환 (FAISS가 요구하는 형식)\n",
    "documents_nutrition = [Document(page_content=text) for text in texts_nutrition]\n",
    "documents_ingredient = [Document(page_content=text) for text in texts_ingredient]\n",
    "\n",
    "# 임베딩 초기화\n",
    "embedding_model = HuggingFaceEmbeddings(model_name=\"sentence-transformers/all-MiniLM-L6-v2\")\n",
    "\n",
    "# 각 텍스트에 대해 임베딩 생성\n",
    "embeddings_nutrition = embedding_model.embed_documents(texts_nutrition)\n",
    "embeddings_ingredient = embedding_model.embed_documents(texts_ingredient)"
   ]
  },
  {
   "cell_type": "code",
   "execution_count": null,
   "metadata": {},
   "outputs": [],
   "source": [
    "# 벡터 데이터베이스 생성\n",
    "all_dataset = documents_nutrition + documents_ingredient\n",
    "# all_embedding = embeddings_nutrition_vectors + embeddings_ingredient_vectors\n",
    "vectorstore = FAISS.from_documents(all_dataset, embedding_model)"
   ]
  },
  {
   "cell_type": "code",
   "execution_count": null,
   "metadata": {},
   "outputs": [],
   "source": [
    "# 벡터 데이터베이스 저장\n",
    "vectorstore.save_local(\"../llm\")"
   ]
  },
  {
   "cell_type": "code",
   "execution_count": 1,
   "metadata": {},
   "outputs": [
    {
     "name": "stdout",
     "output_type": "stream",
     "text": [
      "File exists!\n"
     ]
    }
   ],
   "source": [
    "import os\n",
    "file_path = \"../dataset/FINAL_FOOD_DATASET/FOOD-DATA-GROUP1.csv\"\n",
    "if os.path.exists(file_path):\n",
    "    print(\"File exists!\")\n",
    "else:\n",
    "    print(\"File does not exist!\")\n"
   ]
  },
  {
   "cell_type": "code",
   "execution_count": null,
   "metadata": {},
   "outputs": [],
   "source": []
  }
 ],
 "metadata": {
  "kernelspec": {
   "display_name": "llm",
   "language": "python",
   "name": "python3"
  },
  "language_info": {
   "codemirror_mode": {
    "name": "ipython",
    "version": 3
   },
   "file_extension": ".py",
   "mimetype": "text/x-python",
   "name": "python",
   "nbconvert_exporter": "python",
   "pygments_lexer": "ipython3",
   "version": "3.10.16"
  }
 },
 "nbformat": 4,
 "nbformat_minor": 2
}
